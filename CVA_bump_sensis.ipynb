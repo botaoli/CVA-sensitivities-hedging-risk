{
 "cells": [
  {
   "cell_type": "markdown",
   "metadata": {},
   "source": [
    "# CVA bump sensitivities\n",
    "\n",
    "In this notebook, we calculate linear bump sensitivities, smart bump sensitivities, and benchmark bump sensitivities for CVA. "
   ]
  },
  {
   "cell_type": "code",
   "execution_count": 1,
   "metadata": {},
   "outputs": [],
   "source": [
    "import matplotlib.pyplot as plt\n",
    "import numpy as np\n",
    "from learning.cva_estimator_portfolio_int_pl import CVAEstimatorPortfolioInt\n",
    "from simulation.diffusion_engine_pl import DiffusionEngine\n",
    "import time\n",
    "import torch\n",
    "import pickle\n",
    "import gc\n",
    "import pandas as pd"
   ]
  },
  {
   "cell_type": "code",
   "execution_count": 2,
   "metadata": {},
   "outputs": [],
   "source": [
    "from numba import NumbaPerformanceWarning\n",
    "import warnings\n",
    "warnings.filterwarnings('ignore', category=UserWarning)\n",
    "warnings.filterwarnings('ignore', category=NumbaPerformanceWarning)"
   ]
  },
  {
   "cell_type": "code",
   "execution_count": 3,
   "metadata": {},
   "outputs": [],
   "source": [
    "np.random.seed(0)\n",
    "torch.manual_seed(0)\n",
    "seed_diff = 0\n",
    "early_at = [0.01]\n",
    "time_only = False"
   ]
  },
  {
   "cell_type": "code",
   "execution_count": 4,
   "metadata": {},
   "outputs": [],
   "source": [
    "torch.backends.cudnn.benchmark = False # don't allow cudnn to tune for every input size\n",
    "torch.backends.cudnn.enabled = True"
   ]
  },
  {
   "cell_type": "code",
   "execution_count": 5,
   "metadata": {},
   "outputs": [],
   "source": [
    "torch.backends.cuda.matmul.allow_tf32 = True\n",
    "torch.backends.cudnn.allow_tf32 = True"
   ]
  },
  {
   "cell_type": "markdown",
   "metadata": {},
   "source": [
    "# Simulation parameters\n",
    "\n",
    "* `T`: portfolio maturity;\n",
    "* `num_coarse_steps`: # of coarse time-steps, *ie* steps at which we price and learn;\n",
    "* `dT`: size of a coarse time-step (uniform time-stepping), should be equal to the simulation horizon in years divided by `num_coarse_steps`;\n",
    "* `num_fine_per_coarse`: # of fine time-steps per coarse time-step, those are steps through which the numerical diffusions are stepping;\n",
    "* `dt`: should be equal to `dT/num_fine_per_coarse`;\n",
    "* `num_paths`: # of diffusion paths ($M$ in \\[1\\]);\n",
    "* `num_inner_paths`: # of inner-paths for the Nested Monte Carlo benchmark, set to `1` if no NMC benchmark is needed;\n",
    "* `num_defs_per_path`: # of default simulations given each diffusion path ($N$ in \\[1\\]);\n",
    "* `num_rates`: # of economies, each represented by a 1-factor short-rate;\n",
    "* `num_spreads`: # of counterparties + 1, with one stochastic spread for each counterparty and one for the bank itself;\n",
    "* `R`: correlation matrix, should be `2*num_rates-1+num_spreads` by `2*num_rates-1+num_spreads`;\n",
    "\n",
    "As for the order in which the stochastic diffusion factors are stored, the first `num_rates` components are the short-rates, the next `num_rates-1` are the associated cross-currency exchange rates against the reference currency (which is assumed to be the first, *ie* with id 0), and the last `num_spreads` are the stochastic intensity processes where the first one is for the bank and the rest are for the counterparties.\n",
    "\n",
    "As for the diffusion parameters, they can be set using the following correspondence with the notation in Appendix B of \\[1\\]:\n",
    "* `rates_params['a'][e]` $\\leftrightarrow a^{\\langle e\\rangle}$;\n",
    "* `rates_params['b'][e]` $\\leftrightarrow b^{\\langle e\\rangle}$;\n",
    "* `rates_params['sigma'][e]` $\\leftrightarrow \\sigma^{r, \\langle e\\rangle}$;\n",
    "* `fx_params['vol'][e]` $\\leftrightarrow \\sigma^{\\chi, \\langle e\\rangle}$;\n",
    "* `spreads_params['a'][c]` $\\leftrightarrow \\alpha^{\\langle c\\rangle}$;\n",
    "* `spreads_params['b'][c]` $\\leftrightarrow \\delta^{\\langle c\\rangle}$;\n",
    "* `spreads_params['vvol'][c]` $\\leftrightarrow \\nu^{\\langle c\\rangle}$;\n",
    "\n",
    "Finally, for the products, one can set them in their `specs` arrays below. We invite the user to see the pricing functions in `compile_cuda_diffuse_and_price` (simulation/kernels.py) for more details on how the product specifications are used.\n",
    "\n",
    "In the following, we fill the diffusion parameters and the product specs randomly.\n",
    "\n",
    "**\\[1\\]** Abbas-Turki, L., S. Crépey, and B. Saadeddine (2023).  Pathwise CVA regressions with oversimulated defaults. Mathematical Finance 33(2), pages 274-307, 2023."
   ]
  },
  {
   "cell_type": "code",
   "execution_count": 6,
   "metadata": {},
   "outputs": [],
   "source": [
    "horizon = 10\n",
    "num_fine_steps = 2500\n",
    "dt = horizon/num_fine_steps\n",
    "num_fine_per_coarse = 25 # 8, 16, 32, 64, 128\n",
    "dT = num_fine_per_coarse*dt\n",
    "num_coarse_steps = num_fine_steps//num_fine_per_coarse\n",
    "num_paths = 2**17\n",
    "num_inner_paths = 1\n",
    "num_defs_per_path = 1 #256\n",
    "\n",
    "num_rates = 10\n",
    "num_spreads = 9\n",
    "R = np.eye(2*num_rates-1+num_spreads, dtype=np.float32) # we set the correlation matrix to the identity matrix, although not needed\n",
    "initial_values = np.empty(2*num_rates-1+num_spreads, dtype=np.float32)\n",
    "initial_defaults = np.empty((num_spreads-1+7)//8, dtype=np.int8)\n",
    "\n",
    "# rates diffusion parameters\n",
    "rates_params = np.empty(num_rates, dtype=[('a', '<f4'), ('b', '<f4'), ('sigma', '<f4')])\n",
    "rates_params['a'] = np.random.normal(0.5, 0.05, num_rates).round(4)\n",
    "rates_params['b'] = np.random.normal(0.03, 0.003, num_rates).round(4)\n",
    "rates_params['sigma'] = np.abs(np.random.normal(0.01, 0.001, num_rates)).round(4)\n",
    "initial_values[:num_rates] = 0.01\n",
    "\n",
    "# FX diffusion parameters\n",
    "fx_params = np.empty(num_rates-1, dtype=[('vol', '<f4')])\n",
    "fx_params['vol'] = np.abs(np.random.normal(0.5, 0.05, num_rates-1)).round(4)\n",
    "initial_values[num_rates:2*num_rates-1] = 1\n",
    "\n",
    "# stochastic intensities diffusion parameter7\n",
    "spreads_params = np.empty(num_spreads, dtype=[('a', '<f4'), ('b', '<f4'), ('vvol', '<f4')])\n",
    "spreads_params['a'] = np.random.normal(0.7, 0.07, num_spreads)\n",
    "spreads_params['b'] = np.random.normal(0.04, 0.004, num_spreads)\n",
    "spreads_params['vvol'] = np.abs(np.random.normal(0.1, 0.01, num_spreads))\n",
    "initial_values[2*num_rates-1:] = 0.015\n",
    "\n",
    "# initial default indicators\n",
    "initial_defaults[:] = 0\n",
    "\n",
    "# length of simulated path on the GPU (paths are then simulated by chunks of cDtoH_freq until maturity)\n",
    "cDtoH_freq = 64 # 20\n",
    "\n",
    "# product specs (DO NOT use the ZCs)\n",
    "num_vanillas = 0#500 if portfolio == 'call' else 0\n",
    "vanilla_specs = np.empty(num_vanillas,\n",
    "                            dtype=[('maturity', '<f4'), ('notional', '<f4'),\n",
    "                                ('strike', '<f4'), ('cpty', '<i4'),\n",
    "                                ('undl', '<i4'), ('call_put', '<b1')])\n",
    "vanilla_specs['maturity'] = np.random.uniform(0.1,9.5,num_vanillas)\n",
    "vanilla_specs['notional'] = 1000. *     ((np.random.choice((-1, 1), num_vanillas, p=(0.5, 0.5)))\n",
    "        * np.random.choice(range(1, 6), num_vanillas))\n",
    "vanilla_specs['strike'] = abs(1. * np.random.uniform(0.9,1.1, num_vanillas))\n",
    "vanilla_specs['cpty'] = np.random.randint(0, num_spreads-1, num_vanillas, np.int32)  # Counterparty with which the swap was entered into\n",
    "vanilla_specs['undl'] = np.random.randint(0, num_rates-1, num_vanillas, np.int32)  # Underlying currency\n",
    "vanilla_specs['call_put'] = np.random.choice((True, False), num_vanillas, p=(0.5, 0.5))\n",
    "\n",
    "num_irs = 500\n",
    "irs_specs = np.empty(num_irs,\n",
    "                     dtype=[('first_reset', '<f4'), ('reset_freq', '<f4'),\n",
    "                            ('notional', '<f4'), ('swap_rate', '<f4'),\n",
    "                            ('num_resets', '<i4'), ('cpty', '<i4'),\n",
    "                            ('undl', '<i4')])\n",
    "\n",
    "irs_specs['first_reset'] = 0.  # First reset date in the swaps\n",
    "irs_specs['reset_freq'] = 75*dt # 0.2  # Reset frequency\n",
    "irs_specs['notional'] = 10000. *  ((np.random.choice((-1, 1), num_irs, p=(0.5, 0.5))) * np.random.choice(range(1, 11), num_irs)).round(4)  # Notional of the swaps\n",
    "irs_specs['swap_rate'] = np.abs(np.random.normal(0.03, 0.001, num_irs)).round(4)  # Swap rate\n",
    "irs_specs['num_resets'] = np.random.randint(int((1+dt)/(75*dt)), num_fine_steps//75+1, num_irs, np.int32) # Number of resets (num_resets*reset_freq should be equal to the desired maturity)\n",
    "irs_specs['cpty'] = np.random.randint(0, num_spreads-1, num_irs, np.int32)  # Counterparty with which the swap was entered into\n",
    "irs_specs['undl'] = np.random.randint(0, num_rates, num_irs, np.int32)  # Underlying currency\n",
    "\n",
    "num_zcs = 0\n",
    "zcs_specs = np.empty(num_zcs, \n",
    "                     dtype=[('maturity', '<f4'), ('notional', '<f4'),\n",
    "                            ('cpty', '<i4'), ('undl', '<i4')])"
   ]
  },
  {
   "cell_type": "code",
   "execution_count": 7,
   "metadata": {},
   "outputs": [],
   "source": [
    "initial_g_diff_params = np.concatenate([pd.DataFrame(rates_params).to_numpy().T.ravel(),pd.DataFrame(fx_params).to_numpy().T.ravel(),\n",
    "               np.zeros(num_rates-1), pd.DataFrame(spreads_params).to_numpy().T.ravel()], dtype= np.float32).T"
   ]
  },
  {
   "cell_type": "markdown",
   "metadata": {},
   "source": [
    "The parameters are divided into ten groups. They are:\n",
    "1. Initial values of interest rates;\n",
    "2. Initial values of foreigner exchanges;\n",
    "3. Initial values of default intensities;\n",
    "4. Mean-reversion rate of interest rates;\n",
    "5. Long-term mean of interest rates;\n",
    "6. Volatility of interest rates;\n",
    "7. Volatility of foreigner exchanges;\n",
    "8. Mean-reversion rate of default intensities;\n",
    "9. Long-term mean of default intensities;\n",
    "10. Volatility of default intensities."
   ]
  },
  {
   "cell_type": "code",
   "execution_count": 8,
   "metadata": {},
   "outputs": [],
   "source": [
    "# Grouping initial values and parameters\n",
    "num_diff = initial_values.size\n",
    "num_para = initial_g_diff_params.size + initial_values.size\n",
    "group = dict()\n",
    "group[0] = np.arange(num_rates) #np.delete(np.arange(num_rates),[0,2]) # ini rate\n",
    "group[1] = np.arange(num_rates, 2*num_rates-1) # ini fx\n",
    "group[2] = np.arange(2*num_rates, 2*num_rates + num_spreads- 1) # ini spread\n",
    "group[3] = np.arange(num_diff, num_diff + num_rates) # speed rate\n",
    "group[4] = np.arange(num_diff+ num_rates, num_diff + 2*num_rates) # long mean rate\n",
    "group[5] = np.arange(num_diff+ 2*num_rates, num_diff + 3*num_rates) # vol rate\n",
    "group[6] = np.arange(num_diff+ 3*num_rates, num_diff + 4*num_rates-1)  # vol fx\n",
    "group[7] = np.arange(num_diff+ 5*num_rates-1, num_diff+ 5*num_rates-1+num_spreads-1)  # speed spread\n",
    "group[8] = np.arange(num_diff+ 5*num_rates-1+num_spreads, num_diff+ 5*num_rates-1+2*num_spreads-1) # long mean spread\n",
    "group[9] = np.arange(num_diff+ 5*num_rates-1+2*num_spreads, num_diff+ 5*num_rates-1+3*num_spreads-1) # vol spread\n",
    "index_para = np.concatenate(list(group.values()))\n",
    "features0 = np.concatenate([initial_values, initial_g_diff_params]).reshape(1,-1)\n",
    "features0 = features0[:,index_para]"
   ]
  },
  {
   "cell_type": "code",
   "execution_count": 9,
   "metadata": {},
   "outputs": [],
   "source": [
    "device = torch.device('cuda:1')\n",
    "\n",
    "num_steps_per_reset = int((irs_specs['reset_freq'][0]+dt)/(dT))\n",
    "prev_reset_arr = (np.arange(num_coarse_steps+1)-1)//num_steps_per_reset*num_steps_per_reset"
   ]
  },
  {
   "cell_type": "code",
   "execution_count": 10,
   "metadata": {},
   "outputs": [],
   "source": [
    "with torch.cuda.device(device):\n",
    "    _evt_start = torch.cuda.Event(enable_timing=True)\n",
    "    _evt_stop = torch.cuda.Event(enable_timing=True)"
   ]
  },
  {
   "cell_type": "markdown",
   "metadata": {},
   "source": [
    "The interest rate swaps are not fairly priced in the provided specs. The specs needs to be updated by running the diffusion. "
   ]
  },
  {
   "cell_type": "code",
   "execution_count": 11,
   "metadata": {},
   "outputs": [],
   "source": [
    "def update_irs_specs(initialValue, swapSpec):\n",
    "\n",
    "    diffusion_engine_ = DiffusionEngine(50, 50, num_coarse_steps, dT, num_fine_per_coarse, dt,\n",
    "                                        num_paths, num_inner_paths, num_defs_per_path, \n",
    "                                        num_rates, num_spreads, R, rates_params, fx_params, \n",
    "                                        spreads_params, vanilla_specs, swapSpec, zcs_specs,\n",
    "                                        initialValue, initial_defaults, cDtoH_freq, device.index, \n",
    "                                        pathwise_diff_para=None, seed=1, early_pricing_date=early_at)\n",
    "\n",
    "    diffusion_engine_.generate_batch(fused=True, nested_cva_at=None, indicator_in_cva=False, set_irs_at_par=True)\n",
    "    irs_specs_ = diffusion_engine_.irs_specs.copy()\n",
    "\n",
    "    return irs_specs_"
   ]
  },
  {
   "cell_type": "code",
   "execution_count": 12,
   "metadata": {},
   "outputs": [
    {
     "name": "stdout",
     "output_type": "stream",
     "text": [
      "Successfully compiled all kernels.\n",
      "cuda_diffuse_and_price elapsed time: 7806.508 ms\n"
     ]
    }
   ],
   "source": [
    "irs_specs_ = update_irs_specs(initial_values, irs_specs)"
   ]
  },
  {
   "cell_type": "code",
   "execution_count": 13,
   "metadata": {},
   "outputs": [],
   "source": [
    "def bump_CVA(diffusion_engine_, cva_estimator_portfolio_, initialValue, pathwise_diff_params_, seed, return_features=False, num_paths=num_paths):\n",
    "    # generate CVA labels for given shocks\n",
    "    time_rein = time.time()\n",
    "    diffusion_engine_._reinitialize(initialValue, pathwise_diff_params_)\n",
    "    time_rein = time.time() - time_rein\n",
    "    time_diffusion = time.time()\n",
    "    diffusion_engine_.reset_rng_states(seed)\n",
    "    diffusion_engine_.generate_batch(fused=True, nested_cva_at=None, indicator_in_cva=False, set_irs_at_par=False)\n",
    "    \n",
    "    cva_portfolio_label_gen_ = cva_estimator_portfolio_._build_labels()\n",
    "    timesteps = range(num_coarse_steps, 0, -1)\n",
    "    label_ = np.empty((num_coarse_steps+1, num_defs_per_path*num_paths), dtype=np.float32)\n",
    "    _v__ = label_.reshape((num_coarse_steps+1, num_paths* num_defs_per_path,1))\n",
    "\n",
    "    for t in timesteps:\n",
    "        _v__[t] = next(cva_portfolio_label_gen_)\n",
    "    _v__[0] = next(cva_portfolio_label_gen_)\n",
    "    \n",
    "    label0 = label_[0:1].mean(axis = 1)\n",
    "    time_diffusion = time.time() - time_diffusion\n",
    "    \n",
    "    MtM0 = diffusion_engine_.mtm_by_cpty.sum(axis = 1)[0:2].mean(axis = 1)\n",
    "\n",
    "    d_ = {}\n",
    "    d_['CVA'] = label0[0]\n",
    "    d_['labels'] = label_[0:1]\n",
    "    if return_features:\n",
    "        d_['features'] = diffusion_engine_.pathwise_diff_para.T\n",
    "    return d_, time_rein, time_diffusion"
   ]
  },
  {
   "cell_type": "markdown",
   "metadata": {},
   "source": [
    "# Linear bump sensitivities"
   ]
  },
  {
   "cell_type": "code",
   "execution_count": 14,
   "metadata": {},
   "outputs": [],
   "source": [
    "def pathwise_diff_params_group( seed = 0, l_g = None, return_true_cov=False):\n",
    "    # generate gaussian shocks with modulations for groups\n",
    "    randomized_std = dict()\n",
    "    randomized_std[0], randomized_std[1], randomized_std[2] = 0.02, 0.02, 0.02\n",
    "    randomized_std[3], randomized_std[4], randomized_std[5], randomized_std[6] = 0.02, 0.02, 0.04, 0.04\n",
    "    randomized_std[7], randomized_std[8], randomized_std[9] = 0.02, 0.02, 0.04\n",
    "    noise = np.zeros((num_para, num_paths), dtype = np.float32)\n",
    "    if l_g is None:\n",
    "        l_g = np.arange(10)\n",
    "    \n",
    "    std_rel = np.ones(num_para)\n",
    "    batch_paths = np.zeros(10)\n",
    "    bs = (num_paths)//len(l_g)\n",
    "    for i in range(len(l_g)):\n",
    "        std_rel[group[l_g[i]]] *= randomized_std[l_g[i]]\n",
    "        eff_i = len(group[l_g[i]])\n",
    "        if i<len(l_g) - 1:\n",
    "            bs_small = bs\n",
    "            batch_paths[l_g[i]] = bs\n",
    "            noise[group[l_g[i]], (i)*bs:(i+1)*bs] = np.array(np.random.RandomState(seed+i).multivariate_normal(np.zeros(eff_i), np.eye(eff_i), size=(bs_small)).T, dtype=np.float32).round(4)\n",
    "            noise[group[l_g[i]], (i)*bs:(i+1)*bs] *= randomized_std[l_g[i]]\n",
    "        else:\n",
    "            eff_path = num_paths-bs*i\n",
    "            batch_paths[l_g[i]] = eff_path\n",
    "            \n",
    "            noise[group[l_g[i]], i*bs:i*bs+eff_path] = np.array(np.random.RandomState(seed+i).multivariate_normal(np.zeros(eff_i), np.eye(eff_i),size = ( eff_path)).T, dtype = np.float32).round(4)\n",
    "            noise[group[l_g[i]], i*bs:i*bs+eff_path] *= randomized_std[l_g[i]]\n",
    "    \n",
    "    if return_true_cov:\n",
    "        return noise, std_rel, np.array(batch_paths)\n",
    "    return noise"
   ]
  },
  {
   "cell_type": "code",
   "execution_count": 15,
   "metadata": {},
   "outputs": [],
   "source": [
    "def linear_sensis(training_data):\n",
    "    # calculating sensitivities by linear regression\n",
    "    features_all = training_data['features']\n",
    "    labels_all = training_data['labels'].T\n",
    "    labels_bar_all = training_data['labels_bar'].T\n",
    "    count = np.zeros(num_para)\n",
    "    for i in group.keys():\n",
    "        count[group[i]] += training_data['batch_paths'][i]\n",
    "    features_ref = training_data['features_ref']\n",
    "    cov_theory = training_data['std_rel']**2 * features_ref ** 2\n",
    "    centered_features = features_all - features_ref\n",
    "    cov_coef_linear = ((labels_all - labels_bar_all).T @ centered_features)\n",
    "    cov_coef_std = np.std((labels_all - labels_bar_all) * centered_features, axis=0)\n",
    "    rel_se = cov_coef_std / cov_coef_linear * np.sqrt(centered_features.shape[0])\n",
    "    return cov_coef_linear[0, :] / (cov_theory * count) / 2, rel_se[0, :]"
   ]
  },
  {
   "cell_type": "code",
   "execution_count": 16,
   "metadata": {},
   "outputs": [
    {
     "name": "stdout",
     "output_type": "stream",
     "text": [
      "Successfully compiled all kernels.\n"
     ]
    }
   ],
   "source": [
    "overhead_linear = time.time()\n",
    "diffusion_engine_ = DiffusionEngine(50, 50, num_coarse_steps, dT, num_fine_per_coarse, dt,\n",
    "                                        num_paths, num_inner_paths, num_defs_per_path, \n",
    "                                        num_rates, num_spreads, R, rates_params, fx_params, \n",
    "                                        spreads_params, vanilla_specs, irs_specs_, zcs_specs,\n",
    "                                        initial_values, initial_defaults, cDtoH_freq, device.index, \n",
    "                                        pathwise_diff_para = None, seed = 0, early_pricing_date =early_at)\n",
    "\n",
    "        \n",
    "cva_estimator_portfolio_ = CVAEstimatorPortfolioInt(prev_reset_arr, True, False, False, 0, diffusion_engine_, \n",
    "                                            device, 1, 2*(num_rates+num_spreads), \n",
    "                                            (num_paths*num_defs_per_path)//8, \n",
    "                                            16, 0.01, 0, reset_weights=False, linear=False, \n",
    "                                            best_sol=True, refine_last_layer=True)\n",
    "overhead_full = time.time() - overhead_linear"
   ]
  },
  {
   "cell_type": "code",
   "execution_count": 17,
   "metadata": {},
   "outputs": [
    {
     "name": "stdout",
     "output_type": "stream",
     "text": [
      "cuda_diffuse_and_price elapsed time: 7512.413 ms\n",
      "cuda_diffuse_and_price elapsed time: 7783.829 ms\n"
     ]
    }
   ],
   "source": [
    "linear_data = {}\n",
    "time_rand_linear = time.time()\n",
    "pathwise_diff_params, std_rel, batch_paths = pathwise_diff_params_group(seed = 1000, return_true_cov=True)\n",
    "time_rand_linear = time.time() - time_rand_linear\n",
    "training, time_rein_linear, time_simul_linear = bump_CVA(diffusion_engine_, cva_estimator_portfolio_, initial_values, pathwise_diff_params, seed=seed_diff, return_features=True)\n",
    "training_bar, time_rein_linear_bar, time_simul_linear_bar = bump_CVA(diffusion_engine_, cva_estimator_portfolio_, initial_values, -pathwise_diff_params, seed=seed_diff, return_features=True)\n",
    "linear_data['std_rel'] = std_rel\n",
    "linear_data['batch_paths'] = batch_paths\n",
    "linear_data['features'] = training['features']\n",
    "linear_data['labels'] = training['labels']\n",
    "linear_data['features_bar'] = training_bar['features']\n",
    "linear_data['labels_bar'] = training_bar['labels']\n",
    "linear_data['features_ref'] = np.concatenate((initial_values, initial_g_diff_params))\n",
    "linear_data['group'] = group\n"
   ]
  },
  {
   "cell_type": "code",
   "execution_count": 18,
   "metadata": {},
   "outputs": [
    {
     "name": "stderr",
     "output_type": "stream",
     "text": [
      "/tmp/ipykernel_3680973/3769038574.py:14: RuntimeWarning: invalid value encountered in divide\n",
      "  rel_se = cov_coef_std / cov_coef_linear * np.sqrt(centered_features.shape[0])\n",
      "/tmp/ipykernel_3680973/3769038574.py:15: RuntimeWarning: invalid value encountered in divide\n",
      "  return cov_coef_linear[0, :] / (cov_theory * count) / 2, rel_se[0, :]\n"
     ]
    }
   ],
   "source": [
    "time_regression = time.time()\n",
    "linear_delta, rel_delta_se = linear_sensis(linear_data)\n",
    "time_regression = time.time() - time_regression\n",
    "linear_delta_se = rel_delta_se * linear_delta"
   ]
  },
  {
   "cell_type": "code",
   "execution_count": 19,
   "metadata": {},
   "outputs": [],
   "source": [
    "linear_data['delta'] = linear_delta\n",
    "linear_data['delta_sd'] = linear_delta_se\n",
    "linear_timing = {'overhead':overhead_full, 'rand':time_rand_linear, 'rein':(time_rein_linear, time_rein_linear_bar), 'simul':(time_simul_linear, time_simul_linear_bar), 'regression':time_regression}\n",
    "linear_data['timing'] = linear_timing"
   ]
  },
  {
   "cell_type": "markdown",
   "metadata": {},
   "source": [
    "# Smart bump sensitivities"
   ]
  },
  {
   "cell_type": "code",
   "execution_count": 20,
   "metadata": {},
   "outputs": [
    {
     "name": "stdout",
     "output_type": "stream",
     "text": [
      "Successfully compiled all kernels.\n"
     ]
    }
   ],
   "source": [
    "overhead_smart = time.time()\n",
    "diffusion_engine_ = DiffusionEngine(50, 50, num_coarse_steps, dT, num_fine_per_coarse, dt,\n",
    "                                        num_paths, num_inner_paths, num_defs_per_path, \n",
    "                                        num_rates, num_spreads, R, rates_params, fx_params, \n",
    "                                        spreads_params, vanilla_specs, irs_specs_, zcs_specs,\n",
    "                                        initial_values, initial_defaults, cDtoH_freq, device.index, \n",
    "                                        pathwise_diff_para = None, seed = 0, early_pricing_date =early_at)\n",
    "\n",
    "        \n",
    "cva_estimator_portfolio_ = CVAEstimatorPortfolioInt(prev_reset_arr, True, False, False, 0, diffusion_engine_, \n",
    "                                            device, 1, 2*(num_rates+num_spreads), \n",
    "                                            (num_paths*num_defs_per_path)//8, \n",
    "                                            16, 0.01, 0, reset_weights=False, linear=False, \n",
    "                                            best_sol=True, refine_last_layer=True)\n",
    "overhead_smart = time.time() - overhead_smart"
   ]
  },
  {
   "cell_type": "code",
   "execution_count": 21,
   "metadata": {},
   "outputs": [],
   "source": [
    "def diff_rapid_bump(shock=0.01):\n",
    "    # generating shock for smart bump sensitivities\n",
    "    l_g = index_para\n",
    "    noise = np.zeros((num_para, num_paths), dtype = np.float32)\n",
    "    bs = (num_paths)//len(l_g)\n",
    "    for i in range(len(l_g)):\n",
    "        if i<len(l_g) - 1:\n",
    "            noise[l_g[i], (i)*bs:(i+1)*bs] += shock\n",
    "        else:\n",
    "            eff_path = num_paths-bs*i\n",
    "            noise[l_g[i], i*bs:i*bs+eff_path] += shock\n",
    "    return noise"
   ]
  },
  {
   "cell_type": "code",
   "execution_count": 22,
   "metadata": {},
   "outputs": [
    {
     "name": "stdout",
     "output_type": "stream",
     "text": [
      "cuda_diffuse_and_price elapsed time: 7819.677 ms\n",
      "cuda_diffuse_and_price elapsed time: 7827.761 ms\n"
     ]
    }
   ],
   "source": [
    "time_rand_smart = time.time()\n",
    "rapid_bump_diff_para = diff_rapid_bump()\n",
    "time_rand_smart = time.time() - time_rand_smart\n",
    "d_smart, time_rein_smart, time_simul_smart = bump_CVA(diffusion_engine_, cva_estimator_portfolio_, initial_values, rapid_bump_diff_para, seed=seed_diff, return_features=True)\n",
    "d_smart_bar, time_rein_smart_bar, time_simul_smart_bar = bump_CVA(diffusion_engine_, cva_estimator_portfolio_, initial_values, -rapid_bump_diff_para, seed=seed_diff, return_features=True)"
   ]
  },
  {
   "cell_type": "code",
   "execution_count": 23,
   "metadata": {},
   "outputs": [],
   "source": [
    "labels_smart = d_smart['labels'].reshape(-1,1)\n",
    "labels_smart_bar = d_smart_bar['labels'].reshape(-1,1)\n",
    "smart_delta = np.zeros_like(linear_delta)\n",
    "smart_delta_se = np.zeros_like(linear_delta)\n",
    "bs = (num_paths)//len(index_para)\n",
    "\n",
    "time_sub_smart = time.time()\n",
    "for i in range(len(index_para)):\n",
    "    j = len(index_para)-1 -i\n",
    "    if i!= len(index_para)-1:\n",
    "        l_smart = labels_smart[i*bs:(i+1)*bs]\n",
    "        l_smart_bar = labels_smart_bar[i*bs:(i+1)*bs]\n",
    "    elif i==len(index_para)-1:\n",
    "        l_smart =  labels_smart[i*bs:]\n",
    "        l_smart_bar =  labels_smart_bar[i*bs:]\n",
    "    smart_delta[index_para[i]] = ((l_smart - l_smart_bar)/2/0.01/features0[0,i]).mean()\n",
    "    smart_delta_se[index_para[i]] = ((l_smart - l_smart_bar)/2/0.01/features0[0,i]).std()/ np.sqrt(len(l_smart_bar))\n",
    "time_sub_smart = time.time() - time_sub_smart"
   ]
  },
  {
   "cell_type": "code",
   "execution_count": 24,
   "metadata": {},
   "outputs": [],
   "source": [
    "smart_data = {}\n",
    "smart_data['delta'] = smart_delta\n",
    "smart_data['delta_sd'] = smart_delta_se\n",
    "smart_timing = {'overhead':overhead_smart, 'rand':time_rand_smart, 'rein':(time_rein_smart, time_rein_smart_bar), 'simul':(time_simul_smart, time_simul_smart_bar), 'sub':time_sub_smart}\n",
    "smart_data['timing'] = smart_timing"
   ]
  },
  {
   "cell_type": "markdown",
   "metadata": {},
   "source": [
    "# Benchmark bump sensitivities\n",
    "\n",
    "Both $\\Delta$ and $\\Gamma$ are calculated using benchmark bump method."
   ]
  },
  {
   "cell_type": "code",
   "execution_count": 25,
   "metadata": {},
   "outputs": [],
   "source": [
    "def pathwise_diff_params_verify(chosen_paras, shock=0.01):\n",
    "    # generating bump for a certain parameter\n",
    "    a = np.zeros((num_para, num_paths), dtype = np.float32)\n",
    "    a[chosen_paras,:] = np.ones((num_paths,), dtype = np.float32)*shock\n",
    "    return a"
   ]
  },
  {
   "cell_type": "code",
   "execution_count": 26,
   "metadata": {},
   "outputs": [],
   "source": [
    "bench_delta = np.zeros(num_para)\n",
    "bench_gamma = np.zeros(num_para)\n",
    "bench_delta_se = np.zeros_like(bench_delta)\n",
    "time_plus_rein = np.zeros_like(bench_delta)\n",
    "time_minus_rein = np.zeros_like(bench_delta)\n",
    "time_plus_simul = np.zeros_like(bench_delta)\n",
    "time_minus_simul = np.zeros_like(bench_delta)\n",
    "time_bench_sub = []\n",
    "time_bench_overhead = []\n",
    "time_bench_simul = []\n",
    "time_bench_rand = []\n",
    "bench_count = 0"
   ]
  },
  {
   "cell_type": "code",
   "execution_count": 27,
   "metadata": {},
   "outputs": [
    {
     "name": "stdout",
     "output_type": "stream",
     "text": [
      "Successfully compiled all kernels.\n"
     ]
    }
   ],
   "source": [
    "overhead_bench = time.time()\n",
    "diffusion_engine_ = DiffusionEngine(50, 50, num_coarse_steps, dT, num_fine_per_coarse, dt,\n",
    "                                        num_paths, num_inner_paths, num_defs_per_path, \n",
    "                                        num_rates, num_spreads, R, rates_params, fx_params, \n",
    "                                        spreads_params, vanilla_specs, irs_specs_, zcs_specs,\n",
    "                                        initial_values, initial_defaults, cDtoH_freq, device.index, \n",
    "                                        pathwise_diff_para = None, seed = 0, early_pricing_date =early_at)\n",
    "\n",
    "        \n",
    "cva_estimator_portfolio_ = CVAEstimatorPortfolioInt(prev_reset_arr, True, False, False, 0, diffusion_engine_, \n",
    "                                            device, 1, 2*(num_rates+num_spreads), \n",
    "                                            (num_paths*num_defs_per_path)//8, \n",
    "                                            16, 0.01, 0, reset_weights=False, linear=False, \n",
    "                                            best_sol=True, refine_last_layer=True)\n",
    "overhead_bench = time.time() - overhead_bench\n",
    "time_bench_overhead.append(overhead_bench)"
   ]
  },
  {
   "cell_type": "code",
   "execution_count": 28,
   "metadata": {},
   "outputs": [
    {
     "name": "stdout",
     "output_type": "stream",
     "text": [
      "cuda_diffuse_and_price elapsed time: 7799.952 ms\n"
     ]
    }
   ],
   "source": [
    "baseline_result, time_baseline_rein, time_baseline_simul = bump_CVA(diffusion_engine_, cva_estimator_portfolio_, initial_values, None, seed=seed_diff, return_features=False)\n"
   ]
  },
  {
   "cell_type": "code",
   "execution_count": 29,
   "metadata": {},
   "outputs": [
    {
     "name": "stdout",
     "output_type": "stream",
     "text": [
      "cuda_diffuse_and_price elapsed time: 7809.076 ms\n",
      "cuda_diffuse_and_price elapsed time: 7826.345 ms\n",
      "cuda_diffuse_and_price elapsed time: 7778.158 ms\n",
      "cuda_diffuse_and_price elapsed time: 7855.384 ms\n",
      "cuda_diffuse_and_price elapsed time: 7838.65 ms\n",
      "cuda_diffuse_and_price elapsed time: 7846.273 ms\n",
      "cuda_diffuse_and_price elapsed time: 7848.303 ms\n",
      "cuda_diffuse_and_price elapsed time: 4057.254 ms\n",
      "cuda_diffuse_and_price elapsed time: 7928.501 ms\n",
      "cuda_diffuse_and_price elapsed time: 7954.588 ms\n",
      "cuda_diffuse_and_price elapsed time: 7955.731 ms\n",
      "cuda_diffuse_and_price elapsed time: 7955.213 ms\n",
      "cuda_diffuse_and_price elapsed time: 7873.903 ms\n",
      "cuda_diffuse_and_price elapsed time: 7921.374 ms\n",
      "cuda_diffuse_and_price elapsed time: 7871.728 ms\n",
      "cuda_diffuse_and_price elapsed time: 7775.598 ms\n",
      "cuda_diffuse_and_price elapsed time: 7826.003 ms\n",
      "cuda_diffuse_and_price elapsed time: 7825.372 ms\n",
      "cuda_diffuse_and_price elapsed time: 7861.194 ms\n",
      "cuda_diffuse_and_price elapsed time: 7808.357 ms\n",
      "cuda_diffuse_and_price elapsed time: 7922.178 ms\n",
      "cuda_diffuse_and_price elapsed time: 7765.85 ms\n",
      "cuda_diffuse_and_price elapsed time: 7832.826 ms\n",
      "cuda_diffuse_and_price elapsed time: 7805.175 ms\n",
      "cuda_diffuse_and_price elapsed time: 7814.836 ms\n",
      "cuda_diffuse_and_price elapsed time: 7849.565 ms\n",
      "cuda_diffuse_and_price elapsed time: 7817.287 ms\n",
      "cuda_diffuse_and_price elapsed time: 7866.735 ms\n",
      "cuda_diffuse_and_price elapsed time: 7786.343 ms\n",
      "cuda_diffuse_and_price elapsed time: 7839.554 ms\n",
      "cuda_diffuse_and_price elapsed time: 7853.408 ms\n",
      "cuda_diffuse_and_price elapsed time: 7838.976 ms\n",
      "cuda_diffuse_and_price elapsed time: 7813.305 ms\n",
      "cuda_diffuse_and_price elapsed time: 7849.859 ms\n",
      "cuda_diffuse_and_price elapsed time: 7828.711 ms\n",
      "cuda_diffuse_and_price elapsed time: 7822.183 ms\n",
      "cuda_diffuse_and_price elapsed time: 7837.184 ms\n",
      "cuda_diffuse_and_price elapsed time: 7910.99 ms\n",
      "cuda_diffuse_and_price elapsed time: 7863.649 ms\n",
      "cuda_diffuse_and_price elapsed time: 7802.133 ms\n",
      "cuda_diffuse_and_price elapsed time: 7384.988 ms\n",
      "cuda_diffuse_and_price elapsed time: 5935.401 ms\n",
      "cuda_diffuse_and_price elapsed time: 7823.202 ms\n",
      "cuda_diffuse_and_price elapsed time: 7802.602 ms\n",
      "cuda_diffuse_and_price elapsed time: 7838.3 ms\n",
      "cuda_diffuse_and_price elapsed time: 7833.131 ms\n",
      "cuda_diffuse_and_price elapsed time: 7785.357 ms\n",
      "cuda_diffuse_and_price elapsed time: 7814.381 ms\n",
      "cuda_diffuse_and_price elapsed time: 7830.068 ms\n",
      "cuda_diffuse_and_price elapsed time: 7873.84 ms\n",
      "cuda_diffuse_and_price elapsed time: 7745.34 ms\n",
      "cuda_diffuse_and_price elapsed time: 7788.905 ms\n",
      "cuda_diffuse_and_price elapsed time: 7789.476 ms\n",
      "cuda_diffuse_and_price elapsed time: 7798.478 ms\n",
      "cuda_diffuse_and_price elapsed time: 7848.136 ms\n",
      "cuda_diffuse_and_price elapsed time: 7820.529 ms\n",
      "cuda_diffuse_and_price elapsed time: 7836.124 ms\n",
      "cuda_diffuse_and_price elapsed time: 7848.488 ms\n",
      "cuda_diffuse_and_price elapsed time: 7734.992 ms\n",
      "cuda_diffuse_and_price elapsed time: 7807.052 ms\n",
      "cuda_diffuse_and_price elapsed time: 7824.99 ms\n",
      "cuda_diffuse_and_price elapsed time: 7800.854 ms\n",
      "cuda_diffuse_and_price elapsed time: 7838.818 ms\n",
      "cuda_diffuse_and_price elapsed time: 7864.044 ms\n",
      "cuda_diffuse_and_price elapsed time: 7820.233 ms\n",
      "cuda_diffuse_and_price elapsed time: 7824.924 ms\n",
      "cuda_diffuse_and_price elapsed time: 7880.857 ms\n",
      "cuda_diffuse_and_price elapsed time: 7814.852 ms\n",
      "cuda_diffuse_and_price elapsed time: 7814.102 ms\n",
      "cuda_diffuse_and_price elapsed time: 7830.722 ms\n",
      "cuda_diffuse_and_price elapsed time: 7809.089 ms\n",
      "cuda_diffuse_and_price elapsed time: 4084.931 ms\n",
      "cuda_diffuse_and_price elapsed time: 7741.197 ms\n",
      "cuda_diffuse_and_price elapsed time: 7906.158 ms\n",
      "cuda_diffuse_and_price elapsed time: 7923.196 ms\n",
      "cuda_diffuse_and_price elapsed time: 7844.515 ms\n",
      "cuda_diffuse_and_price elapsed time: 7841.936 ms\n",
      "cuda_diffuse_and_price elapsed time: 7858.169 ms\n",
      "cuda_diffuse_and_price elapsed time: 7817.767 ms\n",
      "cuda_diffuse_and_price elapsed time: 7895.537 ms\n",
      "cuda_diffuse_and_price elapsed time: 7831.076 ms\n",
      "cuda_diffuse_and_price elapsed time: 7835.786 ms\n",
      "cuda_diffuse_and_price elapsed time: 7812.966 ms\n",
      "cuda_diffuse_and_price elapsed time: 7792.769 ms\n",
      "cuda_diffuse_and_price elapsed time: 7822.371 ms\n",
      "cuda_diffuse_and_price elapsed time: 7804.176 ms\n",
      "cuda_diffuse_and_price elapsed time: 7907.222 ms\n",
      "cuda_diffuse_and_price elapsed time: 7870.658 ms\n",
      "cuda_diffuse_and_price elapsed time: 7825.768 ms\n",
      "cuda_diffuse_and_price elapsed time: 7808.381 ms\n",
      "cuda_diffuse_and_price elapsed time: 7894.003 ms\n",
      "cuda_diffuse_and_price elapsed time: 7901.152 ms\n",
      "cuda_diffuse_and_price elapsed time: 7816.899 ms\n",
      "cuda_diffuse_and_price elapsed time: 7828.645 ms\n",
      "cuda_diffuse_and_price elapsed time: 7756.482 ms\n",
      "cuda_diffuse_and_price elapsed time: 7801.646 ms\n",
      "cuda_diffuse_and_price elapsed time: 7845.459 ms\n",
      "cuda_diffuse_and_price elapsed time: 7801.79 ms\n",
      "cuda_diffuse_and_price elapsed time: 7775.468 ms\n",
      "cuda_diffuse_and_price elapsed time: 7844.106 ms\n",
      "cuda_diffuse_and_price elapsed time: 7815.576 ms\n",
      "cuda_diffuse_and_price elapsed time: 7812.484 ms\n",
      "cuda_diffuse_and_price elapsed time: 5039.682 ms\n",
      "cuda_diffuse_and_price elapsed time: 7848.343 ms\n",
      "cuda_diffuse_and_price elapsed time: 7819.663 ms\n",
      "cuda_diffuse_and_price elapsed time: 7863.7 ms\n",
      "cuda_diffuse_and_price elapsed time: 7828.028 ms\n",
      "cuda_diffuse_and_price elapsed time: 7861.643 ms\n",
      "cuda_diffuse_and_price elapsed time: 7812.498 ms\n",
      "cuda_diffuse_and_price elapsed time: 7787.583 ms\n",
      "cuda_diffuse_and_price elapsed time: 7854.334 ms\n",
      "cuda_diffuse_and_price elapsed time: 7820.722 ms\n",
      "cuda_diffuse_and_price elapsed time: 7827.283 ms\n",
      "cuda_diffuse_and_price elapsed time: 7789.303 ms\n",
      "cuda_diffuse_and_price elapsed time: 7779.544 ms\n",
      "cuda_diffuse_and_price elapsed time: 7830.13 ms\n",
      "cuda_diffuse_and_price elapsed time: 7826.32 ms\n",
      "cuda_diffuse_and_price elapsed time: 7815.482 ms\n",
      "cuda_diffuse_and_price elapsed time: 7798.358 ms\n",
      "cuda_diffuse_and_price elapsed time: 7814.221 ms\n",
      "cuda_diffuse_and_price elapsed time: 7835.504 ms\n",
      "cuda_diffuse_and_price elapsed time: 7823.373 ms\n",
      "cuda_diffuse_and_price elapsed time: 7827.118 ms\n",
      "cuda_diffuse_and_price elapsed time: 7817.503 ms\n",
      "cuda_diffuse_and_price elapsed time: 7833.955 ms\n",
      "cuda_diffuse_and_price elapsed time: 7907.953 ms\n",
      "cuda_diffuse_and_price elapsed time: 7835.664 ms\n",
      "cuda_diffuse_and_price elapsed time: 7755.038 ms\n",
      "cuda_diffuse_and_price elapsed time: 7854.721 ms\n",
      "cuda_diffuse_and_price elapsed time: 7847.17 ms\n",
      "cuda_diffuse_and_price elapsed time: 5745.419 ms\n",
      "cuda_diffuse_and_price elapsed time: 7720.893 ms\n"
     ]
    }
   ],
   "source": [
    "for k in range(initial_g_diff_params.size-1,-1,-1):    \n",
    "    bump = 0.01 * initial_g_diff_params[k]\n",
    "    if bump < 1e-7:\n",
    "        continue\n",
    "    \n",
    "    time_rand_bench = time.time()\n",
    "    pathwise_diff_params = pathwise_diff_params_verify(initial_values.size+k,0.01)\n",
    "    time_rand_bench = time.time() - time_rand_bench\n",
    "    bumpedValuePlus, time_plus_rein[initial_values.size+k], time_plus_simul[initial_values.size+k] = bump_CVA(diffusion_engine_, cva_estimator_portfolio_, initial_values, pathwise_diff_params, seed=seed_diff)\n",
    "    \n",
    "    time_rand_bench_bar = time.time()\n",
    "    pathwise_diff_params = pathwise_diff_params_verify(initial_values.size+k,-0.01)\n",
    "    time_rand_bench_bar = time.time() - time_rand_bench_bar\n",
    "    bumpedValueMinus, time_minus_rein[initial_values.size+k], time_minus_simul[initial_values.size+k] = bump_CVA(diffusion_engine_, cva_estimator_portfolio_, initial_values, pathwise_diff_params, seed=seed_diff)\n",
    "    \n",
    "    time_bench_simul.append(time_minus_simul[initial_values.size+k] + time_plus_simul[initial_values.size+k])\n",
    "    time_bench_rand.append(time_rand_bench + time_rand_bench_bar)\n",
    "\n",
    "    time_sub_bench = time.time()\n",
    "    bench_delta[initial_values.size+k] = ((bumpedValuePlus['labels'][0, :] - bumpedValueMinus['labels'][0, :]) / 2 / bump).mean()\n",
    "    bench_delta_se[initial_values.size+k] = ((bumpedValuePlus['labels'][0, :] - bumpedValueMinus['labels'][0, :]) / 2 / bump).std() / np.sqrt(num_paths)\n",
    "    time_sub_bench = time.time() - time_sub_bench\n",
    "    time_bench_sub.append(time_sub_bench)\n",
    "    \n",
    "    bench_gamma[initial_values.size+k] = ((bumpedValuePlus['labels'][0, :] + bumpedValueMinus['labels'][0, :] - 2 * baseline_result['labels'][0, :])).mean() /  np.square(bump)"
   ]
  },
  {
   "cell_type": "code",
   "execution_count": 30,
   "metadata": {},
   "outputs": [
    {
     "name": "stdout",
     "output_type": "stream",
     "text": [
      "cuda_diffuse_and_price elapsed time: 7872.289 ms\n",
      "cuda_diffuse_and_price elapsed time: 7841.332 ms\n",
      "cuda_diffuse_and_price elapsed time: 7845.927 ms\n",
      "cuda_diffuse_and_price elapsed time: 7827.983 ms\n",
      "cuda_diffuse_and_price elapsed time: 7821.746 ms\n",
      "cuda_diffuse_and_price elapsed time: 7822.345 ms\n",
      "cuda_diffuse_and_price elapsed time: 7821.404 ms\n",
      "cuda_diffuse_and_price elapsed time: 7854.786 ms\n",
      "cuda_diffuse_and_price elapsed time: 7859.27 ms\n",
      "cuda_diffuse_and_price elapsed time: 7801.452 ms\n",
      "cuda_diffuse_and_price elapsed time: 7790.668 ms\n",
      "cuda_diffuse_and_price elapsed time: 7822.288 ms\n",
      "cuda_diffuse_and_price elapsed time: 7809.116 ms\n",
      "cuda_diffuse_and_price elapsed time: 7817.751 ms\n",
      "cuda_diffuse_and_price elapsed time: 7865.257 ms\n",
      "cuda_diffuse_and_price elapsed time: 7810.046 ms\n",
      "cuda_diffuse_and_price elapsed time: 7793.457 ms\n",
      "cuda_diffuse_and_price elapsed time: 7766.748 ms\n",
      "cuda_diffuse_and_price elapsed time: 7867.743 ms\n",
      "cuda_diffuse_and_price elapsed time: 7796.739 ms\n",
      "cuda_diffuse_and_price elapsed time: 7887.515 ms\n",
      "cuda_diffuse_and_price elapsed time: 7820.032 ms\n",
      "cuda_diffuse_and_price elapsed time: 7868.291 ms\n",
      "cuda_diffuse_and_price elapsed time: 7852.593 ms\n",
      "cuda_diffuse_and_price elapsed time: 7824.34 ms\n",
      "cuda_diffuse_and_price elapsed time: 7795.405 ms\n",
      "cuda_diffuse_and_price elapsed time: 7872.636 ms\n",
      "cuda_diffuse_and_price elapsed time: 7831.569 ms\n",
      "cuda_diffuse_and_price elapsed time: 7828.149 ms\n",
      "cuda_diffuse_and_price elapsed time: 7854.37 ms\n",
      "cuda_diffuse_and_price elapsed time: 7882.077 ms\n",
      "cuda_diffuse_and_price elapsed time: 4987.748 ms\n",
      "cuda_diffuse_and_price elapsed time: 7181.967 ms\n",
      "cuda_diffuse_and_price elapsed time: 7893.863 ms\n",
      "cuda_diffuse_and_price elapsed time: 7930.795 ms\n",
      "cuda_diffuse_and_price elapsed time: 7959.223 ms\n",
      "cuda_diffuse_and_price elapsed time: 7963.404 ms\n",
      "cuda_diffuse_and_price elapsed time: 7929.026 ms\n",
      "cuda_diffuse_and_price elapsed time: 7933.661 ms\n",
      "cuda_diffuse_and_price elapsed time: 7870.918 ms\n",
      "cuda_diffuse_and_price elapsed time: 8012.202 ms\n",
      "cuda_diffuse_and_price elapsed time: 7935.072 ms\n",
      "cuda_diffuse_and_price elapsed time: 7946.465 ms\n",
      "cuda_diffuse_and_price elapsed time: 6316.243 ms\n",
      "cuda_diffuse_and_price elapsed time: 7809.414 ms\n",
      "cuda_diffuse_and_price elapsed time: 7822.189 ms\n",
      "cuda_diffuse_and_price elapsed time: 7803.016 ms\n",
      "cuda_diffuse_and_price elapsed time: 7827.906 ms\n",
      "cuda_diffuse_and_price elapsed time: 7829.025 ms\n",
      "cuda_diffuse_and_price elapsed time: 7773.268 ms\n",
      "cuda_diffuse_and_price elapsed time: 7765.748 ms\n",
      "cuda_diffuse_and_price elapsed time: 7765.431 ms\n",
      "cuda_diffuse_and_price elapsed time: 7810.775 ms\n",
      "cuda_diffuse_and_price elapsed time: 7867.375 ms\n",
      "cuda_diffuse_and_price elapsed time: 7786.2 ms\n",
      "cuda_diffuse_and_price elapsed time: 7856.721 ms\n"
     ]
    }
   ],
   "source": [
    "for k in range(initial_values.size):\n",
    "    bump = 0.01 * initial_values[k]\n",
    "    if bump < 1e-7:\n",
    "        continue\n",
    "    \n",
    "    time_rand_bench = time.time()\n",
    "    pathwise_diff_params = pathwise_diff_params_verify(k,0.01)\n",
    "    time_rand_bench = time.time() - time_rand_bench\n",
    "    bumpedValuePlus, time_plus_rein[k], time_plus_simul[k] = bump_CVA(diffusion_engine_, cva_estimator_portfolio_, initial_values, pathwise_diff_params, seed=seed_diff)\n",
    "\n",
    "    time_rand_bench_bar = time.time()\n",
    "    pathwise_diff_params = pathwise_diff_params_verify(k,-0.01)\n",
    "    time_rand_bench_bar = time.time() - time_rand_bench_bar\n",
    "    bumpedValueMinus, time_minus_rein[k], time_minus_simul[k] = bump_CVA(diffusion_engine_, cva_estimator_portfolio_, initial_values, pathwise_diff_params, seed=seed_diff)\n",
    "    \n",
    "    time_bench_simul.append(time_minus_simul[k] + time_plus_simul[k])\n",
    "    time_bench_rand.append(time_rand_bench + time_rand_bench_bar)\n",
    "\n",
    "    time_sub_bench = time.time()\n",
    "    bench_delta[k] = ((bumpedValuePlus['labels'][0, :] - bumpedValueMinus['labels'][0, :]) / 2 / bump).mean()\n",
    "    bench_delta_se[k] = ((bumpedValuePlus['labels'][0, :] - bumpedValueMinus['labels'][0, :]) / 2 / bump).std() / np.sqrt(num_paths)\n",
    "    time_sub_bench = time.time() - time_sub_bench\n",
    "    time_bench_sub.append(time_sub_bench)\n",
    "\n",
    "    bench_gamma[k] = ((bumpedValuePlus['labels'][0, :] + bumpedValueMinus['labels'][0, :] - 2 * baseline_result['labels'][0, :])).mean() /  np.square(bump)"
   ]
  },
  {
   "cell_type": "code",
   "execution_count": 31,
   "metadata": {},
   "outputs": [],
   "source": [
    "bench_data = {}\n",
    "bench_data['delta'] = bench_delta\n",
    "bench_data['gamma'] = bench_gamma\n",
    "bench_data['delta_sd'] = bench_delta_se\n",
    "bench_timing = {'overhead':time_bench_overhead, 'rand':time_bench_rand, 'rein':(time_plus_rein, time_minus_rein), 'simul':time_bench_simul, 'sub':time_bench_sub}\n",
    "bench_data['timing'] = bench_timing"
   ]
  },
  {
   "cell_type": "code",
   "execution_count": 32,
   "metadata": {},
   "outputs": [],
   "source": [
    "with open('{}_{}_{}.pickle'.format(num_rates, num_spreads, seed_diff), 'wb') as file:\n",
    "    pickle.dump((len(index_para), linear_data, smart_data, bench_data), file)"
   ]
  }
 ],
 "metadata": {
  "kernelspec": {
   "display_name": "general",
   "language": "python",
   "name": "python3"
  },
  "language_info": {
   "codemirror_mode": {
    "name": "ipython",
    "version": 3
   },
   "file_extension": ".py",
   "mimetype": "text/x-python",
   "name": "python",
   "nbconvert_exporter": "python",
   "pygments_lexer": "ipython3",
   "version": "3.11.8"
  }
 },
 "nbformat": 4,
 "nbformat_minor": 2
}
