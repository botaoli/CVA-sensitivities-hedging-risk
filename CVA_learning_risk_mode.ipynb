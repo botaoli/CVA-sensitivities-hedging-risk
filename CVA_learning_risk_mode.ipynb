{
 "cells": [
  {
   "cell_type": "markdown",
   "metadata": {},
   "source": [
    "# Package importing"
   ]
  },
  {
   "cell_type": "code",
   "execution_count": 1,
   "metadata": {
    "ExecuteTime": {
     "end_time": "2024-10-12T22:08:33.974090Z",
     "start_time": "2024-10-12T22:08:32.028817Z"
    }
   },
   "outputs": [],
   "source": [
    "import matplotlib.pyplot as plt\n",
    "import numpy as np\n",
    "import pandas as pd\n",
    "import time\n",
    "import torch\n",
    "import pickle\n",
    "import gc\n",
    "import math\n",
    "\n",
    "from learning.cva_estimator_portfolio_int_pl import CVAEstimatorPortfolioInt\n",
    "from learning.misc import batch_mean\n",
    "from simulation.diffusion_engine_pl import DiffusionEngine"
   ]
  },
  {
   "cell_type": "code",
   "execution_count": 2,
   "metadata": {
    "ExecuteTime": {
     "end_time": "2024-10-12T22:08:33.978595Z",
     "start_time": "2024-10-12T22:08:33.975873Z"
    }
   },
   "outputs": [],
   "source": [
    "from numba import NumbaPerformanceWarning\n",
    "import warnings\n",
    "warnings.filterwarnings('ignore', category=UserWarning)\n",
    "warnings.filterwarnings('ignore', category=NumbaPerformanceWarning)"
   ]
  },
  {
   "cell_type": "code",
   "execution_count": 3,
   "metadata": {
    "ExecuteTime": {
     "end_time": "2024-10-12T22:08:33.982950Z",
     "start_time": "2024-10-12T22:08:33.979830Z"
    }
   },
   "outputs": [],
   "source": [
    "def open_pickle(name):\n",
    "    with open('./'+name+'.pickle', 'rb') as f:\n",
    "         return pickle.load(f)\n",
    "\n",
    "def save_pickle(name,data):\n",
    "    with open('./'+name+'.pickle', 'wb') as f:\n",
    "        pickle.dump(data, f)"
   ]
  },
  {
   "cell_type": "code",
   "execution_count": 4,
   "metadata": {
    "ExecuteTime": {
     "end_time": "2024-10-12T22:08:33.987433Z",
     "start_time": "2024-10-12T22:08:33.984515Z"
    }
   },
   "outputs": [],
   "source": [
    "np.random.seed(0)\n",
    "torch.manual_seed(0)\n",
    "\n",
    "# Set seed for diffusion paths and random parameter paths\n",
    "diffusion_seed = 1  #+10 for train, +20 for test, any for parameter randomization\n",
    "parameter_shock_seed = 9 "
   ]
  },
  {
   "cell_type": "code",
   "execution_count": 5,
   "metadata": {
    "ExecuteTime": {
     "end_time": "2024-10-12T22:08:33.991114Z",
     "start_time": "2024-10-12T22:08:33.988488Z"
    }
   },
   "outputs": [],
   "source": [
    "torch.backends.cudnn.benchmark = False # don't allow cudnn to tune for every input size\n",
    "torch.backends.cudnn.enabled = True"
   ]
  },
  {
   "cell_type": "code",
   "execution_count": 6,
   "metadata": {
    "ExecuteTime": {
     "end_time": "2024-10-12T22:08:33.994672Z",
     "start_time": "2024-10-12T22:08:33.992276Z"
    }
   },
   "outputs": [],
   "source": [
    "torch.backends.cuda.matmul.allow_tf32 = True\n",
    "torch.backends.cudnn.allow_tf32 = True"
   ]
  },
  {
   "cell_type": "markdown",
   "metadata": {},
   "source": [
    "# Simulation parameters"
   ]
  },
  {
   "cell_type": "markdown",
   "metadata": {},
   "source": [
    "* `T`: portfolio maturity;\n",
    "* `num_coarse_steps`: # of coarse time-steps, *ie* steps at which we price and learn;\n",
    "* `dT`: size of a coarse time-step (uniform time-stepping), should be equal to the simulation horizon in years divided by `num_coarse_steps`;\n",
    "* `num_fine_per_coarse`: # of fine time-steps per coarse time-step, those are steps through which the numerical diffusions are stepping;\n",
    "* `dt`: should be equal to `dT/num_fine_per_coarse`;\n",
    "* `num_paths`: # of diffusion paths ($M$ in \\[1\\]);\n",
    "* `num_inner_paths`: # of inner-paths for the Nested Monte Carlo benchmark, set to `1` if no NMC benchmark is needed;\n",
    "* `num_defs_per_path`: # of default simulations given each diffusion path ($N$ in \\[1\\]);\n",
    "* `num_rates`: # of economies, each represented by a 1-factor short-rate;\n",
    "* `num_spreads`: # of counterparties + 1, with one stochastic spread for each counterparty and one for the bank itself;\n",
    "* `R`: correlation matrix, should be `2*num_rates-1+num_spreads` by `2*num_rates-1+num_spreads`;\n",
    "\n",
    "As for the order in which the stochastic diffusion factors are stored, the first `num_rates` components are the short-rates, the next `num_rates-1` are the associated cross-currency exchange rates against the reference currency (which is assumed to be the first, *ie* with id 0), and the last `num_spreads` are the stochastic intensity processes where the first one is for the bank and the rest are for the counterparties.\n",
    "\n",
    "As for the diffusion parameters, they can be set using the following correspondence with the notation in Appendix B of \\[1\\]:\n",
    "* `rates_params['a'][e]` $\\leftrightarrow a^{\\langle e\\rangle}$;\n",
    "* `rates_params['b'][e]` $\\leftrightarrow b^{\\langle e\\rangle}$;\n",
    "* `rates_params['sigma'][e]` $\\leftrightarrow \\sigma^{r, \\langle e\\rangle}$;\n",
    "* `fx_params['vol'][e]` $\\leftrightarrow \\sigma^{\\chi, \\langle e\\rangle}$;\n",
    "* `spreads_params['a'][c]` $\\leftrightarrow \\alpha^{\\langle c\\rangle}$;\n",
    "* `spreads_params['b'][c]` $\\leftrightarrow \\delta^{\\langle c\\rangle}$;\n",
    "* `spreads_params['vvol'][c]` $\\leftrightarrow \\nu^{\\langle c\\rangle}$;\n",
    "\n",
    "Finally, for the products, one can set them in their `specs` arrays below. We invite the user to see the pricing functions in `compile_cuda_diffuse_and_price` (simulation/kernels.py) for more details on how the product specifications are used.\n",
    "\n",
    "In the following, we fill the diffusion parameters and the product specs randomly.\n",
    "\n",
    "**\\[1\\]** Abbas-Turki, L., S. Crépey, and B. Saadeddine (2023).  Pathwise CVA regressions with oversimulated defaults. Mathematical Finance 33(2), pages 274-307, 2023."
   ]
  },
  {
   "cell_type": "code",
   "execution_count": 7,
   "metadata": {
    "ExecuteTime": {
     "end_time": "2024-10-12T22:08:34.008601Z",
     "start_time": "2024-10-12T22:08:33.995921Z"
    }
   },
   "outputs": [],
   "source": [
    "np.random.seed(0)\n",
    "torch.manual_seed(0)\n",
    "\n",
    "T = 10\n",
    "num_coarse_steps = 100\n",
    "dT = T/num_coarse_steps\n",
    "num_fine_per_coarse = 25\n",
    "dt = T/num_coarse_steps/num_fine_per_coarse\n",
    "\n",
    "num_fine_steps = num_coarse_steps*num_fine_per_coarse\n",
    "\n",
    "num_paths = 2**17\n",
    "num_inner_paths = 1024#512\n",
    "num_defs_per_path = 1 #256\n",
    "\n",
    "num_rates = 10\n",
    "num_spreads = 9\n",
    "R = np.eye(2*num_rates-1+num_spreads, dtype=np.float32) # we set the correlation matrix to the identity matrix, although not needed\n",
    "initial_values = np.empty(2*num_rates-1+num_spreads, dtype=np.float32)\n",
    "initial_defaults = np.empty((num_spreads-1+7)//8, dtype=np.int8)\n",
    "\n",
    "# rates diffusion parameters\n",
    "rates_params = np.empty(num_rates, dtype=[('a', '<f4'), ('b', '<f4'), ('sigma', '<f4')])\n",
    "rates_params['a'] = np.random.normal(0.5, 0.05, num_rates).round(4)\n",
    "rates_params['b'] = np.random.normal(0.03, 0.003, num_rates).round(4)\n",
    "rates_params['sigma'] = np.abs(np.random.normal(0.01, 0.001, num_rates)).round(4)\n",
    "initial_values[:num_rates] = 0.01\n",
    "\n",
    "# FX diffusion parameters\n",
    "fx_params = np.empty(num_rates-1, dtype=[('vol', '<f4')])\n",
    "fx_params['vol'] = np.abs(np.random.normal(0.5, 0.05, num_rates-1)).round(4)\n",
    "initial_values[num_rates:2*num_rates-1] = 1\n",
    "\n",
    "# stochastic intensities diffusion parameter7\n",
    "spreads_params = np.empty(num_spreads, dtype=[('a', '<f4'), ('b', '<f4'), ('vvol', '<f4')])\n",
    "spreads_params['a'] = np.random.normal(0.7, 0.07, num_spreads)\n",
    "spreads_params['b'] = np.random.normal(0.04, 0.004, num_spreads)\n",
    "spreads_params['vvol'] = np.abs(np.random.normal(0.1, 0.01, num_spreads))\n",
    "initial_values[2*num_rates-1:] = 0.015\n",
    "\n",
    "# initial default indicators\n",
    "initial_defaults[:] = 0\n",
    "\n",
    "# length of simulated path on the GPU (paths are then simulated by chunks of cDtoH_freq until maturity)\n",
    "cDtoH_freq = 64 # 20\n",
    "\n",
    "# product specs (DO NOT use the ZCs)\n",
    "num_vanillas = 0#500 if portfolio == 'call' else 0\n",
    "vanilla_specs = np.empty(num_vanillas,\n",
    "                            dtype=[('maturity', '<f4'), ('notional', '<f4'),\n",
    "                                ('strike', '<f4'), ('cpty', '<i4'),\n",
    "                                ('undl', '<i4'), ('call_put', '<b1')])\n",
    "vanilla_specs['maturity'] = np.random.uniform(0.1,9.5,num_vanillas)\n",
    "vanilla_specs['notional'] = 1000. *     ((np.random.choice((-1, 1), num_vanillas, p=(0.5, 0.5)))\n",
    "        * np.random.choice(range(1, 6), num_vanillas))\n",
    "vanilla_specs['strike'] = abs(1. * np.random.uniform(0.9,1.1, num_vanillas))\n",
    "vanilla_specs['cpty'] = np.random.randint(0, num_spreads-1, num_vanillas, np.int32)  # Counterparty with which the swap was entered into\n",
    "#vanilla_specs['undl'] = np.random.randint(0, num_rates-1, num_vanillas, np.int32)  # Underlying currency\n",
    "vanilla_specs['undl'] = np.random.randint(0, num_rates-1, num_vanillas, np.int32)  # Underlying currency\n",
    "vanilla_specs['call_put'] = np.random.choice((True, False), num_vanillas, p=(0.5, 0.5))\n",
    "\n",
    "num_irs = 500\n",
    "irs_specs = np.empty(num_irs,\n",
    "                     dtype=[('first_reset', '<f4'), ('reset_freq', '<f4'),\n",
    "                            ('notional', '<f4'), ('swap_rate', '<f4'),\n",
    "                            ('num_resets', '<i4'), ('cpty', '<i4'),\n",
    "                            ('undl', '<i4')])\n",
    "\n",
    "irs_specs['first_reset'] = 0.  # First reset date in the swaps\n",
    "irs_specs['reset_freq'] = 75*dt # 0.2  # Reset frequency\n",
    "irs_specs['notional'] = 10000. *  ((np.random.choice((-1, 1), num_irs, p=(0.5, 0.5))) * np.random.choice(range(1, 11), num_irs)).round(4)  # Notional of the swaps\n",
    "irs_specs['swap_rate'] = np.abs(np.random.normal(0.03, 0.001, num_irs)).round(4)  # Swap rate. To be overwritten in the ATM swaps case\n",
    "irs_specs['num_resets'] = np.random.randint(int((1+dt)/(75*dt)), num_fine_steps//75+1, num_irs, np.int32) # Number of resets (num_resets*reset_freq should be equal to the desired maturity)\n",
    "irs_specs['cpty'] = np.random.randint(0, num_spreads-1, num_irs, np.int32)  # Counterparty with which the swap was entered into\n",
    "irs_specs['undl'] = np.random.randint(0, num_rates, num_irs, np.int32)  # Underlying currency\n",
    "\n",
    "num_zcs = 0\n",
    "zcs_specs = np.empty(num_zcs, \n",
    "                     dtype=[('maturity', '<f4'), ('notional', '<f4'),\n",
    "                            ('cpty', '<i4'), ('undl', '<i4')])\n",
    "\n",
    "                            "
   ]
  },
  {
   "cell_type": "code",
   "execution_count": 8,
   "metadata": {
    "ExecuteTime": {
     "end_time": "2024-10-12T22:08:34.016348Z",
     "start_time": "2024-10-12T22:08:34.009674Z"
    }
   },
   "outputs": [
    {
     "data": {
      "text/plain": [
       "'\\ng1 = np.delete(np.arange(num_diff), 2*num_rates-1)\\ng2 = np.arange(num_diff, num_diff + num_rates)\\ng3 = np.arange(num_diff+ num_rates, num_diff + 2*num_rates)\\ng4 = np.arange(num_diff+ 2*num_rates, num_diff + 3*num_rates)\\ng4 = np.arange(num_diff+ 2*num_rates, num_diff + 3*num_rates)\\ng5 = np.arange(num_diff+ 3*num_rates, num_diff + 4*num_rates-1)\\ng6 = np.arange(num_diff+ 5*num_rates-1, num_diff+ 5*num_rates-1+num_spreads-1)\\ng7 = np.arange(num_diff+ 5*num_rates-1+num_spreads, num_diff+ 5*num_rates-1+2*num_spreads-1)\\ng8 = np.arange(num_diff+ 5*num_rates-1+2*num_spreads, num_diff+ 5*num_rates-1+3*num_spreads-1)\\n'"
      ]
     },
     "execution_count": 8,
     "metadata": {},
     "output_type": "execute_result"
    }
   ],
   "source": [
    "initial_g_diff_params = np.concatenate([pd.DataFrame(rates_params).to_numpy().T.ravel(),pd.DataFrame(fx_params).to_numpy().T.ravel(),\n",
    "                                        np.zeros(num_rates-1), pd.DataFrame(spreads_params).to_numpy().T.ravel()], dtype= np.float32).T\n",
    "num_diff = initial_values.size\n",
    "num_para = initial_g_diff_params.size + initial_values.size\n",
    "'''\n",
    "g1 = np.delete(np.arange(num_diff), 2*num_rates-1)\n",
    "g2 = np.arange(num_diff, num_diff + num_rates)\n",
    "g3 = np.arange(num_diff+ num_rates, num_diff + 2*num_rates)\n",
    "g4 = np.arange(num_diff+ 2*num_rates, num_diff + 3*num_rates)\n",
    "g4 = np.arange(num_diff+ 2*num_rates, num_diff + 3*num_rates)\n",
    "g5 = np.arange(num_diff+ 3*num_rates, num_diff + 4*num_rates-1)\n",
    "g6 = np.arange(num_diff+ 5*num_rates-1, num_diff+ 5*num_rates-1+num_spreads-1)\n",
    "g7 = np.arange(num_diff+ 5*num_rates-1+num_spreads, num_diff+ 5*num_rates-1+2*num_spreads-1)\n",
    "g8 = np.arange(num_diff+ 5*num_rates-1+2*num_spreads, num_diff+ 5*num_rates-1+3*num_spreads-1)\n",
    "'''"
   ]
  },
  {
   "cell_type": "markdown",
   "metadata": {},
   "source": [
    "Next, we select the GPU. This is where both the simulation and the training/inference are going to be performed."
   ]
  },
  {
   "cell_type": "code",
   "execution_count": 9,
   "metadata": {
    "ExecuteTime": {
     "end_time": "2024-10-12T22:08:34.020092Z",
     "start_time": "2024-10-12T22:08:34.017428Z"
    }
   },
   "outputs": [],
   "source": [
    "device = torch.device('cuda:0')\n",
    "\n",
    "num_steps_per_reset = int((irs_specs['reset_freq'][0]+dt)/(dT))\n",
    "prev_reset_arr = (np.arange(num_coarse_steps+1+1)-1)//num_steps_per_reset*num_steps_per_reset\n",
    "#prev_reset_arr = (np.arange(num_coarse_steps+1+1)-1)//2*2"
   ]
  },
  {
   "cell_type": "markdown",
   "metadata": {},
   "source": [
    "# CVA baseline mode simulation "
   ]
  },
  {
   "cell_type": "markdown",
   "metadata": {},
   "source": [
    "We then instantiate the diffusion engine and the estimators (one with default indicators and the other with default intensities).\n",
    "Adding one early pricing date $t=0.01.$"
   ]
  },
  {
   "cell_type": "code",
   "execution_count": 92,
   "metadata": {
    "ExecuteTime": {
     "end_time": "2024-10-16T09:00:43.283931Z",
     "start_time": "2024-10-16T09:00:28.152378Z"
    },
    "scrolled": true
   },
   "outputs": [
    {
     "name": "stdout",
     "output_type": "stream",
     "text": [
      "Successfully compiled all kernels.\n",
      "Randomizing diffusion parameters.\n"
     ]
    }
   ],
   "source": [
    "diffusion_engine = DiffusionEngine(50, 50, num_coarse_steps, dT, num_fine_per_coarse, dt,\n",
    "                                           num_paths, 1, num_defs_per_path, \n",
    "                                           num_rates, num_spreads, R, rates_params, fx_params, \n",
    "                                           spreads_params, vanilla_specs, irs_specs, zcs_specs,\n",
    "                                           initial_values, initial_defaults, cDtoH_freq, device.index,\n",
    "                                           pathwise_diff_para =  np.zeros((num_para,num_paths), dtype = np.float32),\n",
    "                                           early_pricing_date =[0.01], seed = diffusion_seed)"
   ]
  },
  {
   "cell_type": "code",
   "execution_count": 93,
   "metadata": {
    "ExecuteTime": {
     "end_time": "2024-10-16T09:00:46.385546Z",
     "start_time": "2024-10-16T09:00:46.382081Z"
    }
   },
   "outputs": [],
   "source": [
    "with torch.cuda.device(device):\n",
    "    _evt_start = torch.cuda.Event(enable_timing=True)\n",
    "    _evt_stop = torch.cuda.Event(enable_timing=True)"
   ]
  },
  {
   "cell_type": "code",
   "execution_count": 94,
   "metadata": {
    "ExecuteTime": {
     "end_time": "2024-10-16T09:00:47.156309Z",
     "start_time": "2024-10-16T09:00:46.889233Z"
    }
   },
   "outputs": [],
   "source": [
    "cva_estimator = CVAEstimatorPortfolioInt(prev_reset_arr, True, False, False, False, \n",
    "                                         diffusion_engine, device, 2, 2*(num_rates+num_spreads), \n",
    "                                           (num_paths*num_defs_per_path)//8, \n",
    "                                           100, 0.01, 0, reset_weights=False, linear=False, \n",
    "                                           best_sol=True, refine_last_layer=True)"
   ]
  },
  {
   "cell_type": "code",
   "execution_count": 95,
   "metadata": {
    "ExecuteTime": {
     "end_time": "2024-10-16T09:00:51.524034Z",
     "start_time": "2024-10-16T09:00:47.583031Z"
    }
   },
   "outputs": [
    {
     "name": "stdout",
     "output_type": "stream",
     "text": [
      "cuda_diffuse_and_price elapsed time: 3462.082 ms\n",
      "Everything done in 3936.77 ms\n"
     ]
    }
   ],
   "source": [
    "_evt_start.record()\n",
    "diffusion_engine.reset_rng_states(diffusion_seed)\n",
    "diffusion_engine.generate_batch(fused=True, set_irs_at_par=True, time_to_change_seed= np.inf, seed_to_change=20)\n",
    "_evt_stop.record()\n",
    "_evt_stop.synchronize()\n",
    "elapsed_time_def = _evt_start.elapsed_time(_evt_stop)\n",
    "print('Everything done in {} ms'.format(round(elapsed_time_def, 3)))"
   ]
  },
  {
   "cell_type": "markdown",
   "metadata": {},
   "source": [
    "Save diffusive risk factors and ATM interest rate specifications. "
   ]
  },
  {
   "cell_type": "code",
   "execution_count": 96,
   "metadata": {
    "ExecuteTime": {
     "end_time": "2024-10-16T09:01:18.283622Z",
     "start_time": "2024-10-16T09:00:52.888310Z"
    }
   },
   "outputs": [],
   "source": [
    "baseline_diffusion_X = diffusion_engine.X.copy()\n",
    "ATM_irs_specs = diffusion_engine.irs_specs.copy()"
   ]
  },
  {
   "cell_type": "markdown",
   "metadata": {
    "ExecuteTime": {
     "end_time": "2024-10-16T08:58:55.292705Z",
     "start_time": "2024-10-16T08:58:55.288410Z"
    }
   },
   "source": [
    "Simulate one more time without reinstantiating the diffusion engine"
   ]
  },
  {
   "cell_type": "code",
   "execution_count": 97,
   "metadata": {
    "ExecuteTime": {
     "end_time": "2024-10-16T09:01:29.116716Z",
     "start_time": "2024-10-16T09:01:25.260864Z"
    }
   },
   "outputs": [
    {
     "name": "stdout",
     "output_type": "stream",
     "text": [
      "cuda_diffuse_and_price elapsed time: 3448.437 ms\n",
      "Simulation done in 3852.39 ms\n"
     ]
    }
   ],
   "source": [
    "_evt_start.record()\n",
    "diffusion_engine.reset_rng_states(diffusion_seed + 10) # use it for better control the seed\n",
    "diffusion_engine.generate_batch(fused=True, nested_cva_at=None, indicator_in_cva=False, set_irs_at_par=False)\n",
    "_evt_stop.record()\n",
    "_evt_stop.synchronize()\n",
    "elapsed_time_def = _evt_start.elapsed_time(_evt_stop)\n",
    "print('Simulation done in {} ms'.format(round(elapsed_time_def, 3)))"
   ]
  },
  {
   "cell_type": "code",
   "execution_count": 98,
   "metadata": {
    "ExecuteTime": {
     "end_time": "2024-10-16T09:01:33.779950Z",
     "start_time": "2024-10-16T09:01:32.639519Z"
    }
   },
   "outputs": [],
   "source": [
    "timesteps = range(num_coarse_steps+1, -1, -1)\n",
    "xi_baseline = np.empty((num_coarse_steps+1+1, num_defs_per_path*num_paths,1), dtype=np.float32)\n",
    "cva_label_gen = cva_estimator._build_labels()\n",
    "for t in timesteps:\n",
    "    xi_baseline[t] = next(cva_label_gen)\n",
    "CVA_base0 = xi_baseline[0].mean()"
   ]
  },
  {
   "cell_type": "code",
   "execution_count": 101,
   "metadata": {
    "ExecuteTime": {
     "end_time": "2024-10-16T09:01:50.094015Z",
     "start_time": "2024-10-16T09:01:44.079871Z"
    }
   },
   "outputs": [
    {
     "data": {
      "text/plain": [
       "378114"
      ]
     },
     "execution_count": 101,
     "metadata": {},
     "output_type": "execute_result"
    }
   ],
   "source": [
    "del diffusion_engine, cva_estimator\n",
    "torch.cuda.empty_cache()\n",
    "gc.collect()"
   ]
  },
  {
   "cell_type": "markdown",
   "metadata": {
    "ExecuteTime": {
     "end_time": "2024-04-15T12:20:49.803311Z",
     "start_time": "2024-04-15T12:20:49.254668Z"
    }
   },
   "source": [
    "# CVA risk mode simulation"
   ]
  },
  {
   "cell_type": "code",
   "execution_count": 17,
   "metadata": {
    "ExecuteTime": {
     "end_time": "2024-10-12T22:09:03.142189Z",
     "start_time": "2024-10-12T22:09:03.140084Z"
    }
   },
   "outputs": [],
   "source": [
    "time_horizon_index = [1,2,11] \n",
    "\n",
    "# New time steps with early pricing date are:\n",
    "# 0 0.01 0.1 0.2... 1"
   ]
  },
  {
   "cell_type": "code",
   "execution_count": 43,
   "metadata": {
    "ExecuteTime": {
     "end_time": "2024-10-13T09:58:33.282234Z",
     "start_time": "2024-10-13T09:58:33.239090Z"
    }
   },
   "outputs": [],
   "source": [
    "def parameter_shock_generator(idx_horizon, para_shock_seed = parameter_shock_seed): \n",
    "    \n",
    "    #shock generation\n",
    "    time_horizon_value = np.concatenate([np.array([0,1]),np.arange(10,1010,10)])\n",
    "    pathwise_diff_params = np.random.RandomState(para_shock_seed).multivariate_normal(np.zeros(num_para), np.eye(num_para), size = (num_paths))\n",
    "    \n",
    "    shock_train = math.sqrt(time_horizon_value[idx_horizon])*0.01*np.array(pathwise_diff_params, dtype = np.float32).T\n",
    "    \n",
    "    pathwise_diff_params = np.random.RandomState(para_shock_seed + 111).multivariate_normal(np.zeros(num_para), np.eye(num_para), size = (num_paths))\n",
    "    shock_test = math.sqrt(time_horizon_value[idx_horizon])*0.01*np.array(pathwise_diff_params, dtype = np.float32).T\n",
    "    \n",
    "    shock_train[0:num_diff, :] = 0\n",
    "    shock_test[0:num_diff, :] = 0\n",
    "    \n",
    "    return shock_train, shock_test\n",
    "\n",
    "\n",
    "def payoff_CVA_risk_simulation(idx_horizon, shock_para, seed_dif, num_inner_paths_ = 1): # Y0_projection = 'gau', 'baseline', 'sensis'\n",
    "    \n",
    "\n",
    "    diffusion_engine_risk = DiffusionEngine(50, 50, num_coarse_steps, dT, num_fine_per_coarse, dt,\n",
    "                                               num_paths, num_inner_paths_, num_defs_per_path, \n",
    "                                               num_rates, num_spreads, R, rates_params, fx_params, \n",
    "                                               spreads_params, vanilla_specs, ATM_irs_specs, zcs_specs,\n",
    "                                               initial_values, initial_defaults, cDtoH_freq, device.index,\n",
    "                                               pathwise_diff_para =  shock_para.copy(),\n",
    "                                               early_pricing_date =[0.01], seed = diffusion_seed+ seed_dif)\n",
    "    \n",
    "    \n",
    "    with torch.cuda.device(device):\n",
    "        _evt_start = torch.cuda.Event(enable_timing=True)\n",
    "        _evt_stop = torch.cuda.Event(enable_timing=True)\n",
    "    \n",
    "    cva_estimator_risk = CVAEstimatorPortfolioInt(prev_reset_arr, True, False, False, True,\n",
    "                                         diffusion_engine_risk, device, 2, 2*(num_rates+num_spreads), \n",
    "                                           (num_paths*num_defs_per_path)//16, \n",
    "                                           100, 0.01, 0, reset_weights=False, \n",
    "                                           best_sol=True, refine_last_layer=True)\n",
    "    \n",
    "\n",
    "    \n",
    "    _evt_start.record()\n",
    "    diffusion_engine_risk.reset_rng_states(diffusion_seed + seed_dif) # use it for better control the seed\n",
    "    diffusion_engine_risk.generate_batch(fused=True, nested_cva_at=[idx_horizon] if num_inner_paths_>1 else None, \n",
    "                                         indicator_in_cva=False, set_irs_at_par=False)\n",
    "    _evt_stop.record()\n",
    "    _evt_stop.synchronize()\n",
    "    elapsed_time_def = _evt_start.elapsed_time(_evt_stop)\n",
    "    print('Simulation done in {} ms'.format(round(elapsed_time_def, 3)))\n",
    "    \n",
    "    xi = np.empty(( num_defs_per_path*num_paths,1), dtype=np.float32)\n",
    "\n",
    "    timesteps = range(num_coarse_steps+1, -1, -1)\n",
    "    cva_label_gen = cva_estimator_risk._build_labels()\n",
    "    for t in timesteps:\n",
    "        if t == idx_horizon:\n",
    "            xi = next(cva_label_gen)\n",
    "        else:\n",
    "            next(cva_label_gen)\n",
    "    \n",
    "    \n",
    "    lgd_risk = np.empty(shape=([ num_paths * num_defs_per_path, 1]), dtype = np.float32)\n",
    "    \n",
    "    fea = np.empty(shape=(idx_horizon+1, num_paths , cva_estimator_risk.num_features + cva_estimator_risk.num_params * cva_estimator_risk.include_para_as_fea), dtype = np.float32)\n",
    "\n",
    "    def_ind = np.empty(shape=(idx_horizon+1, num_paths * num_defs_per_path, 8), dtype = np.float32)\n",
    "    \n",
    "    features_gen_risk = cva_estimator_risk._features_generator()\n",
    "    \n",
    "    for t in range(idx_horizon+1):\n",
    "        next(features_gen_risk)\n",
    "        feature0 = features_gen_risk.send(t)\n",
    "\n",
    "        with torch.no_grad():\n",
    "            for j, feature_batch in enumerate(feature0()):\n",
    "                \n",
    "                def_ind[t, j*cva_estimator_risk.batch_size:(j + 1)*cva_estimator_risk.batch_size] = feature_batch.cpu().numpy()[:,37:45]\n",
    "    \n",
    "                if num_paths<=cva_estimator_risk.batch_size and j ==0:\n",
    "                    fea[ t, j*cva_estimator_risk.batch_size:(j + 1)*cva_estimator_risk.batch_size] = feature_batch.cpu().numpy()[:num_paths]\n",
    "                elif (j + 1)*cva_estimator_risk.batch_size<=num_paths:\n",
    "                    fea[ t, j*cva_estimator_risk.batch_size:(j + 1)*cva_estimator_risk.batch_size] = feature_batch.cpu().numpy()\n",
    "                      \n",
    "\n",
    "    inst_def_ind = def_ind.copy()\n",
    "\n",
    "    for i in range(1,len(def_ind)):\n",
    "        inst_def_ind[i] = def_ind[i]- def_ind[i-1]\n",
    "\n",
    "\n",
    "    lgd = np.zeros((idx_horizon+1, num_paths * num_defs_per_path), dtype = np.float32)\n",
    "    mtm_ = np.tile(diffusion_engine_risk.mtm_by_cpty[0], num_defs_per_path).T\n",
    "\n",
    "    lgd[1]= (inst_def_ind[1]*np.maximum(mtm_,0)).sum(axis = 1)\n",
    "    lgd[1] *= np.exp(-np.tile(diffusion_engine_risk.dom_rate_integral[1], num_defs_per_path))\n",
    "\n",
    "    for t in range(2,idx_horizon+1):\n",
    "        tt = t-2 if t ==2 else t-1 # due to the early pricing date\n",
    "        mtm_ = np.tile(diffusion_engine_risk.mtm_by_cpty[tt], num_defs_per_path).T\n",
    "        lgd[t] = (inst_def_ind[t]*np.maximum(mtm_,0)).sum(axis = 1)\n",
    "        lgd[t] *= np.exp(-np.tile(diffusion_engine_risk.dom_rate_integral[t], num_defs_per_path))\n",
    "\n",
    "    lgd[1:] = lgd[1:].cumsum(axis =0)\n",
    "    \n",
    "    lgd_risk = lgd[idx_horizon][:,np.newaxis]\n",
    "        \n",
    "    dc_factor  = np.exp(-np.tile(diffusion_engine_risk.dom_rate_integral[0:idx_horizon+1,:], num_defs_per_path)[:,:,np.newaxis])\n",
    "    \n",
    "    \n",
    "    nested = diffusion_engine_risk.nested_cva[idx_horizon].reshape(-1,1) \n",
    "    \n",
    "    del  diffusion_engine_risk, cva_estimator_risk, cva_label_gen, feature0\n",
    "    torch.cuda.empty_cache()\n",
    "    gc.collect()\n",
    "    \n",
    "\n",
    "    return (fea, lgd_risk, \n",
    "            inst_def_ind, dc_factor,\n",
    "            nested, xi)\n",
    "\n",
    "def two_ind_paths_generator(idx_horizon, shock_para, seed_dif, change_seed = True): # Y0_projection = 'gau', 'baseline', 'sensis'\n",
    "    real_time = np.concatenate([np.array([0,1]),np.arange(10,1010,10)])/100\n",
    "    twin_y12 = np.empty(shape=( 2, num_paths ,1))\n",
    "    diffusion_engine_risk = DiffusionEngine(50, 50, num_coarse_steps, dT, num_fine_per_coarse, dt,\n",
    "                                               num_paths, 1, num_defs_per_path, \n",
    "                                               num_rates, num_spreads, R, rates_params, fx_params, \n",
    "                                               spreads_params, vanilla_specs, ATM_irs_specs, zcs_specs,\n",
    "                                               initial_values, initial_defaults, cDtoH_freq, device.index, \n",
    "                                               pathwise_diff_para =  shock_para.copy(),\n",
    "                                               early_pricing_date =[0.01], seed = diffusion_seed+ seed_dif)\n",
    "    \n",
    "    cva_estimator_risk = CVAEstimatorPortfolioInt(prev_reset_arr, True, False, False, True,\n",
    "                                         diffusion_engine_risk, device, 2, 2*(num_rates+num_spreads), \n",
    "                                           (num_paths*num_defs_per_path)//16, \n",
    "                                           100, 0.01, 0, reset_weights=False, \n",
    "                                           best_sol=True, refine_last_layer=True)\n",
    "    \n",
    "    diffusion_engine_risk.reset_rng_states(diffusion_seed + seed_dif) # use it for better control the seed\n",
    "    diffusion_engine_risk.generate_batch(fused=True, nested_cva_at=[idx_horizon], indicator_in_cva=False, set_irs_at_par=False,\n",
    "                                           time_to_change_seed=real_time[idx_horizon] if change_seed else np.inf, seed_to_change=diffusion_seed+ seed_dif + 100)\n",
    "    \n",
    "    twin_y12[0] = diffusion_engine_risk.nested_cva[idx_horizon].reshape(-1,1)    \n",
    "    \n",
    "    diffusion_engine_risk.reset_rng_states(diffusion_seed + seed_dif) # use it for better control the seed\n",
    "    diffusion_engine_risk.generate_batch(fused=True, nested_cva_at=[idx_horizon], indicator_in_cva=False, set_irs_at_par=False,\n",
    "                                           time_to_change_seed=real_time[idx_horizon] if change_seed else np.inf , seed_to_change=diffusion_seed+ seed_dif + 200)\n",
    "  \n",
    "    twin_y12[1] = diffusion_engine_risk.nested_cva[idx_horizon].reshape(-1,1)    \n",
    "   \n",
    "    \n",
    "    del  diffusion_engine_risk, cva_estimator_risk\n",
    "    torch.cuda.empty_cache()\n",
    "    gc.collect()\n",
    "    \n",
    "\n",
    "    return twin_y12"
   ]
  },
  {
   "cell_type": "code",
   "execution_count": null,
   "metadata": {
    "ExecuteTime": {
     "start_time": "2024-10-13T09:59:00.466Z"
    },
    "scrolled": true
   },
   "outputs": [
    {
     "name": "stderr",
     "output_type": "stream",
     "text": [
      "\r",
      "  0%|                                                   | 0/3 [00:00<?, ?it/s]"
     ]
    },
    {
     "name": "stdout",
     "output_type": "stream",
     "text": [
      "Successfully compiled all kernels.\n",
      "Randomizing diffusion parameters.\n",
      "cuda_diffuse_and_price elapsed time: 3456.267 ms\n",
      "Simulation done in 3857.706 ms\n",
      "Successfully compiled all kernels.\n",
      "Randomizing diffusion parameters.\n",
      "opsss\n",
      "opsss\n",
      "opsss\n",
      "opsss\n",
      "opsss\n",
      "opsss\n",
      "opsss\n",
      "opsss\n",
      "opsss\n",
      "opsss\n",
      "opsss\n",
      "opsss\n",
      "opsss\n",
      "opsss\n",
      "opsss\n",
      "opsss\n",
      "opsss\n",
      "opsss\n",
      "opsss\n",
      "opsss\n",
      "opsss\n",
      "opsss\n",
      "cuda_diffuse_and_price elapsed time: 3438.888 ms\n",
      "cuda_nested_cva average elapsed time per launch: 1731882.703 ms\n",
      "Simulation done in 1794058.125 ms\n",
      "Successfully compiled all kernels.\n",
      "Randomizing diffusion parameters.\n",
      "cuda_diffuse_and_price elapsed time: 3653.759 ms\n",
      "cuda_nested_cva average elapsed time per launch: 88874.057 ms\n",
      "cuda_diffuse_and_price elapsed time: 3451.877 ms\n",
      "cuda_nested_cva average elapsed time per launch: 88923.45 ms\n"
     ]
    },
    {
     "name": "stderr",
     "output_type": "stream",
     "text": [
      "\r",
      " 33%|█████████████                          | 1/3 [34:30<1:09:00, 2070.07s/it]"
     ]
    },
    {
     "name": "stdout",
     "output_type": "stream",
     "text": [
      "Successfully compiled all kernels.\n",
      "Randomizing diffusion parameters.\n",
      "cuda_diffuse_and_price elapsed time: 3460.516 ms\n",
      "Simulation done in 3864.791 ms\n",
      "Successfully compiled all kernels.\n",
      "Randomizing diffusion parameters.\n",
      "opsss\n",
      "opsss\n",
      "opsss\n",
      "opsss\n",
      "opsss\n",
      "opsss\n",
      "opsss\n",
      "opsss\n",
      "opsss\n",
      "opsss\n",
      "opsss\n",
      "opsss\n",
      "opsss\n",
      "opsss\n",
      "opsss\n",
      "opsss\n",
      "opsss\n",
      "opsss\n",
      "opsss\n",
      "opsss\n",
      "opsss\n",
      "opsss\n",
      "cuda_diffuse_and_price elapsed time: 3623.786 ms\n",
      "cuda_nested_cva average elapsed time per launch: 1703728.705 ms\n",
      "Simulation done in 1776304.125 ms\n",
      "Successfully compiled all kernels.\n",
      "Randomizing diffusion parameters.\n",
      "opsss\n",
      "cuda_diffuse_and_price elapsed time: 3632.863 ms\n",
      "cuda_nested_cva average elapsed time per launch: 87868.255 ms\n",
      "cuda_diffuse_and_price elapsed time: 3455.602 ms\n",
      "cuda_nested_cva average elapsed time per launch: 87884.867 ms\n"
     ]
    },
    {
     "name": "stderr",
     "output_type": "stream",
     "text": [
      "\r",
      " 67%|██████████████████████████             | 2/3 [1:08:44<34:20, 2060.90s/it]"
     ]
    },
    {
     "name": "stdout",
     "output_type": "stream",
     "text": [
      "Successfully compiled all kernels.\n",
      "Randomizing diffusion parameters.\n",
      "opsss\n",
      "opsss\n",
      "opsss\n",
      "opsss\n",
      "opsss\n",
      "opsss\n",
      "opsss\n",
      "opsss\n",
      "opsss\n",
      "opsss\n",
      "opsss\n",
      "opsss\n",
      "opsss\n",
      "opsss\n",
      "opsss\n",
      "opsss\n",
      "opsss\n",
      "opsss\n",
      "opsss\n",
      "opsss\n",
      "opsss\n",
      "opsss\n",
      "opsss\n",
      "cuda_diffuse_and_price elapsed time: 3453.552 ms\n",
      "Simulation done in 3854.83 ms\n",
      "Successfully compiled all kernels.\n",
      "Randomizing diffusion parameters.\n",
      "opsss\n",
      "opsss\n",
      "opsss\n",
      "opsss\n",
      "opsss\n",
      "opsss\n",
      "opsss\n",
      "opsss\n",
      "opsss\n",
      "opsss\n",
      "opsss\n",
      "opsss\n",
      "opsss\n",
      "opsss\n",
      "opsss\n",
      "opsss\n",
      "opsss\n",
      "opsss\n"
     ]
    }
   ],
   "source": [
    "from tqdm import tqdm\n",
    "features_risk, LGD_risk, instant_def_ind_risk, dc_factor_risk, nested_risk,  twin_y12_risk, xi_risk =  list(), list(),list(),list(),list(),list(),list()\n",
    "for h in tqdm(time_horizon_index):\n",
    "    shock_train, shock_test = parameter_shock_generator(h, parameter_shock_seed)\n",
    "    res_train = payoff_CVA_risk_simulation(h, shock_train, 10, 1) \n",
    "    res_test = payoff_CVA_risk_simulation(h, shock_test, 20, num_inner_paths) \n",
    "    res_twin = two_ind_paths_generator(h, shock_test, 20, True)\n",
    "\n",
    "    features_risk.append(np.asarray([res_train[0], res_test[0]]))\n",
    "    LGD_risk.append([res_train[1], res_test[1]])\n",
    "    instant_def_ind_risk.append(np.asarray([res_train[2], res_test[2]]))\n",
    "    dc_factor_risk.append(np.asarray([res_train[3], res_test[3]]))\n",
    "    nested_risk.append( res_test[4])\n",
    "    \n",
    "    xi_risk.append([res_train[5], res_test[5]])\n",
    "    \n",
    "    twin_y12_risk.append(res_twin)\n",
    "\n",
    "LGD_risk = np.asarray(LGD_risk)\n",
    "nested_risk = np.asarray(nested_risk)\n",
    "xi_risk = np.asarray(xi_risk)\n",
    "twin_y12_risk = np.asarray(twin_y12_risk)"
   ]
  },
  {
   "cell_type": "code",
   "execution_count": 81,
   "metadata": {
    "ExecuteTime": {
     "end_time": "2024-10-16T08:37:42.455361Z",
     "start_time": "2024-10-16T08:37:42.449395Z"
    }
   },
   "outputs": [],
   "source": [
    "LGD_risk_train = LGD_risk[:,0,:,:]\n",
    "LGD_risk_test = LGD_risk[:,1,:,:]\n",
    "\n",
    "xi_risk_train = xi_risk[:,0,:,:]\n",
    "xi_risk_test = xi_risk[:,1,:,:]\n",
    "\n",
    "features_risk_train = [d[0,:,:,:] for d in features_risk]\n",
    "features_risk_test = [d[1,:,:,:] for d in features_risk]\n",
    "\n",
    "instant_def_ind_risk_train = [d[0,:,:,:] for d in instant_def_ind_risk]\n",
    "instant_def_ind_risk_test = [d[1,:,:,:] for d in instant_def_ind_risk]\n",
    "\n",
    "dc_factor_risk_train = [d[0,:,:,:] for d in dc_factor_risk]\n",
    "dc_factor_risk_test = [d[1,:,:,:] for d in dc_factor_risk]"
   ]
  },
  {
   "cell_type": "code",
   "execution_count": 110,
   "metadata": {
    "ExecuteTime": {
     "end_time": "2024-10-16T09:15:27.518538Z",
     "start_time": "2024-10-16T09:15:27.513492Z"
    }
   },
   "outputs": [
    {
     "data": {
      "text/plain": [
       "(3, 131072, 1)"
      ]
     },
     "execution_count": 110,
     "metadata": {},
     "output_type": "execute_result"
    }
   ],
   "source": [
    "nested_risk.shape"
   ]
  },
  {
   "cell_type": "markdown",
   "metadata": {},
   "source": [
    "The output results:\n",
    "- `features_risk_train[horizon][timesteps up to horizon, paths, num_features]`: features encomprass diffusive risk factors and parameters\n",
    "- `instant_def_ind_risk_train[horizon][timesteps up to horizon, paths, num_features]`: the moment when the counterparty defaults occur\n",
    "- `dc_factor_risk_train[horizon][timesteps up to horizon, paths, num_features]`: discount factor from 0 to risk horizon\n",
    "- `xi_risk_train[horizon, paths, 1]`:  payoff in the risk mode\n",
    "- `LGD_risk_train[horizon, paths, 1]`:  LGD in the risk mode\n",
    "- `nested_risk[horizon, paths, 1]`: nested CVA in the risk mode only on the test data\n",
    "- `twin_y12_risk[horizon, 2, paths, 1]`: payoff y1 and y2 in the risk mode for the twin Monte Carlo validation only on the test data.\n",
    "\n",
    "\n"
   ]
  },
  {
   "cell_type": "markdown",
   "metadata": {},
   "source": [
    "## CVA$_{t}$  learning (run-off)"
   ]
  },
  {
   "cell_type": "code",
   "execution_count": 82,
   "metadata": {
    "ExecuteTime": {
     "end_time": "2024-10-16T08:42:06.833769Z",
     "start_time": "2024-10-16T08:40:38.072152Z"
    }
   },
   "outputs": [
    {
     "data": {
      "image/png": "[encoded data removed]",
      "text/plain": [
       "<Figure size 640x480 with 1 Axes>"
      ]
     },
     "metadata": {},
     "output_type": "display_data"
    },
    {
     "data": {
      "image/png": "[encoded data removed]",
      "text/plain": [
       "<Figure size 640x480 with 1 Axes>"
      ]
     },
     "metadata": {},
     "output_type": "display_data"
    },
    {
     "data": {
      "image/png": "[encoded data removed]",
      "text/plain": [
       "<Figure size 640x480 with 1 Axes>"
      ]
     },
     "metadata": {},
     "output_type": "display_data"
    }
   ],
   "source": [
    "CVA_nn_train = list()\n",
    "CVA_nn_test = list()\n",
    "\n",
    "\n",
    "from learning.generic_estimator import GenericModel\n",
    "\n",
    "criterion = torch.nn.MSELoss(reduction='mean')\n",
    "num_batch = 32\n",
    "batch_size = num_paths//num_batch\n",
    "\n",
    "for j in range(len(xi_risk)):\n",
    "\n",
    "    label = torch.tensor(xi_risk_train[j], dtype = torch.float32).to(device)\n",
    "    std_label = label.std()+1e-7\n",
    "    features_torch = torch.tensor(features_risk_train[j][-1], dtype = torch.float32).to(device)\n",
    "    features_torch_test = torch.tensor(features_risk_test[j][-1], dtype = torch.float32).to(device)\n",
    "    \n",
    "    features_torch_mean = features_torch.mean(axis = 0,keepdim = True)\n",
    "    features_torch_std = features_torch.std(axis = 0,keepdim = True)+1e-7\n",
    "    \n",
    "    model = GenericModel(features_torch.shape[1], 1, 200, 'mean').to(device)\n",
    "    optimizer = torch.optim.Adam(model.parameters(), lr=1e-2, weight_decay=1e-2)\n",
    "\n",
    "    model.train()\n",
    "    losses = []\n",
    "    for _ in range(500):\n",
    "        for i in range(num_batch):\n",
    "            features_batch = features_torch[i*batch_size:(i+1)*batch_size]\n",
    "            label_batch = label[i*batch_size:(i+1)*batch_size]\n",
    "            pred = model((features_batch-features_torch_mean)/features_torch_std)\n",
    "            loss = criterion(pred, label_batch)/std_label\n",
    "            optimizer.zero_grad()\n",
    "            loss.backward()\n",
    "            optimizer.step()\n",
    "        losses.append(loss.detach().cpu().numpy())\n",
    "    model.eval()\n",
    "    plt.plot(np.log(losses))\n",
    "    plt.show()\n",
    "    \n",
    "    with torch.no_grad():\n",
    "        pred_train = model((features_torch-features_torch_mean)/features_torch_std).cpu().numpy()\n",
    "        pred_test = model((features_torch_test-features_torch_mean)/features_torch_std).cpu().numpy() \n",
    "    \n",
    "        CVA_nn_train.append( pred_train)\n",
    "        CVA_nn_test.append( pred_test)\n",
    "CVA_nn_train = np.asarray(CVA_nn_train, dtype = np.float32)   \n",
    "CVA_nn_test = np.asarray(CVA_nn_test, dtype = np.float32)   "
   ]
  },
  {
   "cell_type": "markdown",
   "metadata": {
    "ExecuteTime": {
     "end_time": "2024-10-16T08:57:11.758048Z",
     "start_time": "2024-10-16T08:57:11.729309Z"
    }
   },
   "source": [
    "Remove some unchanged features"
   ]
  },
  {
   "cell_type": "code",
   "execution_count": 87,
   "metadata": {
    "ExecuteTime": {
     "end_time": "2024-10-16T08:44:07.417850Z",
     "start_time": "2024-10-16T08:43:35.678891Z"
    }
   },
   "outputs": [],
   "source": [
    "idx_features_risk = np.concatenate([np.arange(27), np.arange(45, features_torch.shape[1]), np.arange(37,45)])\n",
    "\n",
    "features_baseline0 = np.concatenate([initial_values[:-1], initial_g_diff_params, np.zeros(8)]).reshape(1,-1)\n",
    "\n",
    "features_risk_train = [d[:,:,idx_features_risk] for d in features_risk_train] \n",
    "features_risk_test = [d[:,:,idx_features_risk] for d in features_risk_test] \n"
   ]
  },
  {
   "cell_type": "markdown",
   "metadata": {},
   "source": [
    "Save features, CVA learnt by neural network models, nested CVA and two extra paths for twin Monte Carlo validation"
   ]
  },
  {
   "cell_type": "code",
   "execution_count": 116,
   "metadata": {
    "ExecuteTime": {
     "end_time": "2024-10-16T09:19:57.436272Z",
     "start_time": "2024-10-16T09:19:36.061885Z"
    }
   },
   "outputs": [],
   "source": [
    "d = {}\n",
    "\n",
    "d['features_baseline0'] = features_baseline0\n",
    "\n",
    "d['features_risk_train'] = features_risk_train\n",
    "d['features_risk_test'] = features_risk_test\n",
    "\n",
    "d['LGD_risk_train'] = LGD_risk_train\n",
    "d['LGD_risk_test'] = LGD_risk_test\n",
    "\n",
    "d['xi_risk_train'] = xi_risk_train\n",
    "d['xi_risk_test'] = xi_risk_test\n",
    "\n",
    "d['CVA_nn_train'] = CVA_nn_train\n",
    "d['CVA_nn_test'] = CVA_nn_test\n",
    "\n",
    "d['instant_def_ind_risk_train'] = instant_def_ind_risk_train\n",
    "d['instant_def_ind_risk_test'] = instant_def_ind_risk_test\n",
    "\n",
    "d['dc_factor_risk_train'] = dc_factor_risk_train\n",
    "d['dc_factor_risk_test'] = dc_factor_risk_test\n",
    "\n",
    "d['nested_risk'] = nested_risk\n",
    "d['twin_y12_risk'] = twin_y12_risk\n",
    "d['CVA_0'] = CVA_base0\n",
    "\n",
    "save_pickle('data_for_run-off_analysis', d)\n"
   ]
  }
 ],
 "metadata": {
  "kernelspec": {
   "display_name": "Python 3 (ipykernel)",
   "language": "python",
   "name": "python3"
  },
  "language_info": {
   "codemirror_mode": {
    "name": "ipython",
    "version": 3
   },
   "file_extension": ".py",
   "mimetype": "text/x-python",
   "name": "python",
   "nbconvert_exporter": "python",
   "pygments_lexer": "ipython3",
   "version": "3.11.8"
  },
  "toc": {
   "base_numbering": 1,
   "nav_menu": {
    "height": "150px",
    "width": "160px"
   },
   "number_sections": true,
   "sideBar": true,
   "skip_h1_title": false,
   "title_cell": "Table of Contents",
   "title_sidebar": "Contents",
   "toc_cell": false,
   "toc_position": {},
   "toc_section_display": true,
   "toc_window_display": false
  },
  "varInspector": {
   "cols": {
    "lenName": 16,
    "lenType": 16,
    "lenVar": 40
   },
   "kernels_config": {
    "python": {
     "delete_cmd_postfix": "",
     "delete_cmd_prefix": "del ",
     "library": "var_list.py",
     "varRefreshCmd": "print(var_dic_list())"
    },
    "r": {
     "delete_cmd_postfix": ") ",
     "delete_cmd_prefix": "rm(",
     "library": "var_list.r",
     "varRefreshCmd": "cat(var_dic_list()) "
    }
   },
   "types_to_exclude": [
    "module",
    "function",
    "builtin_function_or_method",
    "instance",
    "_Feature"
   ],
   "window_display": false
  }
 },
 "nbformat": 4,
 "nbformat_minor": 4
}
