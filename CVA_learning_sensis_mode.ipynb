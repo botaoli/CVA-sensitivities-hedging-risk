{
 "cells": [
  {
   "cell_type": "markdown",
   "metadata": {},
   "source": [
    "# Package importing"
   ]
  },
  {
   "cell_type": "code",
   "execution_count": 1,
   "metadata": {
    "ExecuteTime": {
     "end_time": "2024-10-23T09:49:17.685696Z",
     "start_time": "2024-10-23T09:49:15.698554Z"
    }
   },
   "outputs": [],
   "source": [
    "import matplotlib.pyplot as plt\n",
    "import numpy as np\n",
    "import pandas as pd\n",
    "import time\n",
    "import torch\n",
    "import pickle\n",
    "import gc\n",
    "import math\n",
    "\n",
    "from learning.cva_estimator_portfolio_int_pl import CVAEstimatorPortfolioInt\n",
    "from learning.misc import batch_mean\n",
    "from simulation.diffusion_engine_pl import DiffusionEngine"
   ]
  },
  {
   "cell_type": "code",
   "execution_count": 2,
   "metadata": {
    "ExecuteTime": {
     "end_time": "2024-10-23T09:49:17.690344Z",
     "start_time": "2024-10-23T09:49:17.687905Z"
    }
   },
   "outputs": [],
   "source": [
    "from numba import NumbaPerformanceWarning\n",
    "import warnings\n",
    "warnings.filterwarnings('ignore', category=UserWarning)\n",
    "warnings.filterwarnings('ignore', category=NumbaPerformanceWarning)"
   ]
  },
  {
   "cell_type": "code",
   "execution_count": 3,
   "metadata": {
    "ExecuteTime": {
     "end_time": "2024-10-23T09:49:17.694003Z",
     "start_time": "2024-10-23T09:49:17.691600Z"
    }
   },
   "outputs": [],
   "source": [
    "def open_pickle(name):\n",
    "    with open('./'+name+'.pickle', 'rb') as f:\n",
    "         return pickle.load(f)\n",
    "\n",
    "def save_pickle(name,data):\n",
    "    with open('./'+name+'.pickle', 'wb') as f:\n",
    "        pickle.dump(data, f)"
   ]
  },
  {
   "cell_type": "code",
   "execution_count": 4,
   "metadata": {
    "ExecuteTime": {
     "end_time": "2024-10-23T09:49:17.697801Z",
     "start_time": "2024-10-23T09:49:17.695370Z"
    }
   },
   "outputs": [],
   "source": [
    "np.random.seed(0)\n",
    "torch.manual_seed(0)\n",
    "\n",
    "# Set seed for diffusion paths and random parameter paths\n",
    "diffusion_seed = 1 #+10 for train, +20 for test, any for parameter randomization\n",
    "parameter_shock_seed = 9 "
   ]
  },
  {
   "cell_type": "code",
   "execution_count": 5,
   "metadata": {
    "ExecuteTime": {
     "end_time": "2024-10-23T09:49:17.700570Z",
     "start_time": "2024-10-23T09:49:17.698775Z"
    }
   },
   "outputs": [],
   "source": [
    "torch.backends.cudnn.benchmark = False # don't allow cudnn to tune for every input size\n",
    "torch.backends.cudnn.enabled = True"
   ]
  },
  {
   "cell_type": "code",
   "execution_count": 6,
   "metadata": {
    "ExecuteTime": {
     "end_time": "2024-10-23T09:49:17.703286Z",
     "start_time": "2024-10-23T09:49:17.701546Z"
    }
   },
   "outputs": [],
   "source": [
    "torch.backends.cuda.matmul.allow_tf32 = True\n",
    "torch.backends.cudnn.allow_tf32 = True"
   ]
  },
  {
   "cell_type": "markdown",
   "metadata": {},
   "source": [
    "# Simulation parameters"
   ]
  },
  {
   "cell_type": "markdown",
   "metadata": {},
   "source": [
    "* `T`: portfolio maturity;\n",
    "* `num_coarse_steps`: # of coarse time-steps, *ie* steps at which we price and learn;\n",
    "* `dT`: size of a coarse time-step (uniform time-stepping), should be equal to the simulation horizon in years divided by `num_coarse_steps`;\n",
    "* `num_fine_per_coarse`: # of fine time-steps per coarse time-step, those are steps through which the numerical diffusions are stepping;\n",
    "* `dt`: should be equal to `dT/num_fine_per_coarse`;\n",
    "* `num_paths`: # of diffusion paths ($M$ in \\[1\\]);\n",
    "* `num_inner_paths`: # of inner-paths for the Nested Monte Carlo benchmark, set to `1` if no NMC benchmark is needed;\n",
    "* `num_defs_per_path`: # of default simulations given each diffusion path ($N$ in \\[1\\]);\n",
    "* `num_rates`: # of economies, each represented by a 1-factor short-rate;\n",
    "* `num_spreads`: # of counterparties + 1, with one stochastic spread for each counterparty and one for the bank itself;\n",
    "* `R`: correlation matrix, should be `2*num_rates-1+num_spreads` by `2*num_rates-1+num_spreads`;\n",
    "\n",
    "As for the order in which the stochastic diffusion factors are stored, the first `num_rates` components are the short-rates, the next `num_rates-1` are the associated cross-currency exchange rates against the reference currency (which is assumed to be the first, *ie* with id 0), and the last `num_spreads` are the stochastic intensity processes where the first one is for the bank and the rest are for the counterparties.\n",
    "\n",
    "As for the diffusion parameters, they can be set using the following correspondence with the notation in Appendix B of \\[1\\]:\n",
    "* `rates_params['a'][e]` $\\leftrightarrow a^{\\langle e\\rangle}$;\n",
    "* `rates_params['b'][e]` $\\leftrightarrow b^{\\langle e\\rangle}$;\n",
    "* `rates_params['sigma'][e]` $\\leftrightarrow \\sigma^{r, \\langle e\\rangle}$;\n",
    "* `fx_params['vol'][e]` $\\leftrightarrow \\sigma^{\\chi, \\langle e\\rangle}$;\n",
    "* `spreads_params['a'][c]` $\\leftrightarrow \\alpha^{\\langle c\\rangle}$;\n",
    "* `spreads_params['b'][c]` $\\leftrightarrow \\delta^{\\langle c\\rangle}$;\n",
    "* `spreads_params['vvol'][c]` $\\leftrightarrow \\nu^{\\langle c\\rangle}$;\n",
    "\n",
    "Finally, for the products, one can set them in their `specs` arrays below. We invite the user to see the pricing functions in `compile_cuda_diffuse_and_price` (simulation/kernels.py) for more details on how the product specifications are used.\n",
    "\n",
    "In the following, we fill the diffusion parameters and the product specs randomly.\n",
    "\n",
    "**\\[1\\]** Abbas-Turki, L., S. Crépey, and B. Saadeddine (2023).  Pathwise CVA regressions with oversimulated defaults. Mathematical Finance 33(2), pages 274-307, 2023."
   ]
  },
  {
   "cell_type": "code",
   "execution_count": 7,
   "metadata": {
    "ExecuteTime": {
     "end_time": "2024-10-23T09:49:17.716466Z",
     "start_time": "2024-10-23T09:49:17.704302Z"
    }
   },
   "outputs": [],
   "source": [
    "np.random.seed(0)\n",
    "torch.manual_seed(0)\n",
    "\n",
    "T = 10\n",
    "num_coarse_steps = 100\n",
    "dT = T/num_coarse_steps\n",
    "num_fine_per_coarse = 25\n",
    "dt = T/num_coarse_steps/num_fine_per_coarse\n",
    "\n",
    "num_fine_steps = num_coarse_steps*num_fine_per_coarse\n",
    "\n",
    "num_paths = 2**17\n",
    "num_inner_paths = 1024#512\n",
    "num_defs_per_path = 1 #256\n",
    "\n",
    "num_rates = 10\n",
    "num_spreads = 9\n",
    "R = np.eye(2*num_rates-1+num_spreads, dtype=np.float32) # we set the correlation matrix to the identity matrix, although not needed\n",
    "initial_values = np.empty(2*num_rates-1+num_spreads, dtype=np.float32)\n",
    "initial_defaults = np.empty((num_spreads-1+7)//8, dtype=np.int8)\n",
    "\n",
    "# rates diffusion parameters\n",
    "rates_params = np.empty(num_rates, dtype=[('a', '<f4'), ('b', '<f4'), ('sigma', '<f4')])\n",
    "rates_params['a'] = np.random.normal(0.5, 0.05, num_rates).round(4)\n",
    "rates_params['b'] = np.random.normal(0.03, 0.003, num_rates).round(4)\n",
    "rates_params['sigma'] = np.abs(np.random.normal(0.01, 0.001, num_rates)).round(4)\n",
    "initial_values[:num_rates] = 0.01\n",
    "\n",
    "# FX diffusion parameters\n",
    "fx_params = np.empty(num_rates-1, dtype=[('vol', '<f4')])\n",
    "fx_params['vol'] = np.abs(np.random.normal(0.5, 0.05, num_rates-1)).round(4)\n",
    "initial_values[num_rates:2*num_rates-1] = 1\n",
    "\n",
    "# stochastic intensities diffusion parameter7\n",
    "spreads_params = np.empty(num_spreads, dtype=[('a', '<f4'), ('b', '<f4'), ('vvol', '<f4')])\n",
    "spreads_params['a'] = np.random.normal(0.7, 0.07, num_spreads)\n",
    "spreads_params['b'] = np.random.normal(0.04, 0.004, num_spreads)\n",
    "spreads_params['vvol'] = np.abs(np.random.normal(0.1, 0.01, num_spreads))\n",
    "initial_values[2*num_rates-1:] = 0.015\n",
    "\n",
    "# initial default indicators\n",
    "initial_defaults[:] = 0\n",
    "\n",
    "# length of simulated path on the GPU (paths are then simulated by chunks of cDtoH_freq until maturity)\n",
    "cDtoH_freq = 64 # 20\n",
    "\n",
    "# product specs (DO NOT use the ZCs)\n",
    "num_vanillas = 0#500 if portfolio == 'call' else 0\n",
    "vanilla_specs = np.empty(num_vanillas,\n",
    "                            dtype=[('maturity', '<f4'), ('notional', '<f4'),\n",
    "                                ('strike', '<f4'), ('cpty', '<i4'),\n",
    "                                ('undl', '<i4'), ('call_put', '<b1')])\n",
    "vanilla_specs['maturity'] = np.random.uniform(0.1,9.5,num_vanillas)\n",
    "vanilla_specs['notional'] = 1000. *     ((np.random.choice((-1, 1), num_vanillas, p=(0.5, 0.5)))\n",
    "        * np.random.choice(range(1, 6), num_vanillas))\n",
    "vanilla_specs['strike'] = abs(1. * np.random.uniform(0.9,1.1, num_vanillas))\n",
    "vanilla_specs['cpty'] = np.random.randint(0, num_spreads-1, num_vanillas, np.int32)  # Counterparty with which the swap was entered into\n",
    "#vanilla_specs['undl'] = np.random.randint(0, num_rates-1, num_vanillas, np.int32)  # Underlying currency\n",
    "vanilla_specs['undl'] = np.random.randint(0, num_rates-1, num_vanillas, np.int32)  # Underlying currency\n",
    "vanilla_specs['call_put'] = np.random.choice((True, False), num_vanillas, p=(0.5, 0.5))\n",
    "\n",
    "num_irs = 500\n",
    "irs_specs = np.empty(num_irs,\n",
    "                     dtype=[('first_reset', '<f4'), ('reset_freq', '<f4'),\n",
    "                            ('notional', '<f4'), ('swap_rate', '<f4'),\n",
    "                            ('num_resets', '<i4'), ('cpty', '<i4'),\n",
    "                            ('undl', '<i4')])\n",
    "\n",
    "irs_specs['first_reset'] = 0.  # First reset date in the swaps\n",
    "irs_specs['reset_freq'] = 75*dt # 0.2  # Reset frequency\n",
    "irs_specs['notional'] = 10000. *  ((np.random.choice((-1, 1), num_irs, p=(0.5, 0.5))) * np.random.choice(range(1, 11), num_irs)).round(4)  # Notional of the swaps\n",
    "irs_specs['swap_rate'] = np.abs(np.random.normal(0.03, 0.001, num_irs)).round(4)  # Swap rate. To be overwritten in the ATM swaps case\n",
    "irs_specs['num_resets'] = np.random.randint(int((1+dt)/(75*dt)), num_fine_steps//75+1, num_irs, np.int32) # Number of resets (num_resets*reset_freq should be equal to the desired maturity)\n",
    "irs_specs['cpty'] = np.random.randint(0, num_spreads-1, num_irs, np.int32)  # Counterparty with which the swap was entered into\n",
    "irs_specs['undl'] = np.random.randint(0, num_rates, num_irs, np.int32)  # Underlying currency\n",
    "\n",
    "num_zcs = 0\n",
    "zcs_specs = np.empty(num_zcs, \n",
    "                     dtype=[('maturity', '<f4'), ('notional', '<f4'),\n",
    "                            ('cpty', '<i4'), ('undl', '<i4')])\n",
    "\n",
    "                            "
   ]
  },
  {
   "cell_type": "code",
   "execution_count": 8,
   "metadata": {
    "ExecuteTime": {
     "end_time": "2024-10-23T09:49:17.723591Z",
     "start_time": "2024-10-23T09:49:17.717467Z"
    }
   },
   "outputs": [
    {
     "data": {
      "text/plain": [
       "'\\ng1 = np.delete(np.arange(num_diff), 2*num_rates-1)\\ng2 = np.arange(num_diff, num_diff + num_rates)\\ng3 = np.arange(num_diff+ num_rates, num_diff + 2*num_rates)\\ng4 = np.arange(num_diff+ 2*num_rates, num_diff + 3*num_rates)\\ng4 = np.arange(num_diff+ 2*num_rates, num_diff + 3*num_rates)\\ng5 = np.arange(num_diff+ 3*num_rates, num_diff + 4*num_rates-1)\\ng6 = np.arange(num_diff+ 5*num_rates-1, num_diff+ 5*num_rates-1+num_spreads-1)\\ng7 = np.arange(num_diff+ 5*num_rates-1+num_spreads, num_diff+ 5*num_rates-1+2*num_spreads-1)\\ng8 = np.arange(num_diff+ 5*num_rates-1+2*num_spreads, num_diff+ 5*num_rates-1+3*num_spreads-1)\\n'"
      ]
     },
     "execution_count": 8,
     "metadata": {},
     "output_type": "execute_result"
    }
   ],
   "source": [
    "initial_g_diff_params = np.concatenate([pd.DataFrame(rates_params).to_numpy().T.ravel(),pd.DataFrame(fx_params).to_numpy().T.ravel(),\n",
    "                                        np.zeros(num_rates-1), pd.DataFrame(spreads_params).to_numpy().T.ravel()], dtype= np.float32).T\n",
    "num_diff = initial_values.size\n",
    "num_para = initial_g_diff_params.size + initial_values.size\n",
    "'''\n",
    "g1 = np.delete(np.arange(num_diff), 2*num_rates-1)\n",
    "g2 = np.arange(num_diff, num_diff + num_rates)\n",
    "g3 = np.arange(num_diff+ num_rates, num_diff + 2*num_rates)\n",
    "g4 = np.arange(num_diff+ 2*num_rates, num_diff + 3*num_rates)\n",
    "g4 = np.arange(num_diff+ 2*num_rates, num_diff + 3*num_rates)\n",
    "g5 = np.arange(num_diff+ 3*num_rates, num_diff + 4*num_rates-1)\n",
    "g6 = np.arange(num_diff+ 5*num_rates-1, num_diff+ 5*num_rates-1+num_spreads-1)\n",
    "g7 = np.arange(num_diff+ 5*num_rates-1+num_spreads, num_diff+ 5*num_rates-1+2*num_spreads-1)\n",
    "g8 = np.arange(num_diff+ 5*num_rates-1+2*num_spreads, num_diff+ 5*num_rates-1+3*num_spreads-1)\n",
    "'''"
   ]
  },
  {
   "cell_type": "markdown",
   "metadata": {},
   "source": [
    "Next, we select the GPU. This is where both the simulation and the training/inference are going to be performed."
   ]
  },
  {
   "cell_type": "code",
   "execution_count": 9,
   "metadata": {
    "ExecuteTime": {
     "end_time": "2024-10-23T09:49:17.727411Z",
     "start_time": "2024-10-23T09:49:17.724920Z"
    }
   },
   "outputs": [],
   "source": [
    "device = torch.device('cuda:0')\n",
    "\n",
    "num_steps_per_reset = int((irs_specs['reset_freq'][0]+dt)/(dT))\n",
    "prev_reset_arr = (np.arange(num_coarse_steps+1+1)-1)//num_steps_per_reset*num_steps_per_reset\n",
    "#prev_reset_arr = (np.arange(num_coarse_steps+1+1)-1)//2*2"
   ]
  },
  {
   "cell_type": "markdown",
   "metadata": {},
   "source": [
    "# CVA baseline mode simulation"
   ]
  },
  {
   "cell_type": "markdown",
   "metadata": {},
   "source": [
    "We then instantiate the diffusion engine and the estimators (one with default indicators and the other with default intensities).\n",
    "Adding one early pricing date $t=0.01.$"
   ]
  },
  {
   "cell_type": "code",
   "execution_count": 10,
   "metadata": {
    "ExecuteTime": {
     "end_time": "2024-10-23T09:49:33.960545Z",
     "start_time": "2024-10-23T09:49:17.730203Z"
    }
   },
   "outputs": [
    {
     "name": "stdout",
     "output_type": "stream",
     "text": [
      "Successfully compiled all kernels.\n",
      "Randomizing diffusion parameters.\n"
     ]
    }
   ],
   "source": [
    "diffusion_engine = DiffusionEngine(50, 50, num_coarse_steps, dT, num_fine_per_coarse, dt,\n",
    "                                           num_paths, 1, num_defs_per_path, \n",
    "                                           num_rates, num_spreads, R, rates_params, fx_params, \n",
    "                                           spreads_params, vanilla_specs, irs_specs, zcs_specs,\n",
    "                                           initial_values, initial_defaults, cDtoH_freq, device.index,\n",
    "                                           pathwise_diff_para = np.zeros((num_para,num_paths), dtype = np.float32),\n",
    "                                           early_pricing_date = [0.01], seed = diffusion_seed)"
   ]
  },
  {
   "cell_type": "code",
   "execution_count": 11,
   "metadata": {
    "ExecuteTime": {
     "end_time": "2024-10-23T09:49:34.066360Z",
     "start_time": "2024-10-23T09:49:33.961939Z"
    }
   },
   "outputs": [],
   "source": [
    "with torch.cuda.device(device):\n",
    "    _evt_start = torch.cuda.Event(enable_timing=True)\n",
    "    _evt_stop = torch.cuda.Event(enable_timing=True)"
   ]
  },
  {
   "cell_type": "code",
   "execution_count": 12,
   "metadata": {
    "ExecuteTime": {
     "end_time": "2024-10-23T09:49:35.558444Z",
     "start_time": "2024-10-23T09:49:34.067970Z"
    }
   },
   "outputs": [],
   "source": [
    "cva_estimator = CVAEstimatorPortfolioInt(prev_reset_arr, True, False, False, False, \n",
    "                                         diffusion_engine, device, 2, 2*(num_rates+num_spreads), \n",
    "                                           (num_paths*num_defs_per_path)//8, \n",
    "                                           100, 0.01, 0, reset_weights=False, linear=False, \n",
    "                                           best_sol=True, refine_last_layer=True)"
   ]
  },
  {
   "cell_type": "code",
   "execution_count": 13,
   "metadata": {
    "ExecuteTime": {
     "end_time": "2024-10-23T09:49:36.392609Z",
     "start_time": "2024-10-23T09:49:35.559801Z"
    }
   },
   "outputs": [
    {
     "name": "stdout",
     "output_type": "stream",
     "text": [
      "cuda_diffuse_and_price elapsed time: 785.091 ms\n",
      "Simulation done in 830.191 ms\n"
     ]
    }
   ],
   "source": [
    "_evt_start.record()\n",
    "diffusion_engine.generate_batch(fused=True, set_irs_at_par=True)\n",
    "_evt_stop.record()\n",
    "_evt_stop.synchronize()\n",
    "elapsed_time_def = _evt_start.elapsed_time(_evt_stop)\n",
    "print('Simulation done in {} ms'.format(round(elapsed_time_def, 3)))"
   ]
  },
  {
   "cell_type": "markdown",
   "metadata": {},
   "source": [
    "Save diffusive risk factors and ATM interest rate specifications. "
   ]
  },
  {
   "cell_type": "code",
   "execution_count": 14,
   "metadata": {
    "ExecuteTime": {
     "end_time": "2024-10-23T09:49:36.402634Z",
     "start_time": "2024-10-23T09:49:36.393891Z"
    }
   },
   "outputs": [],
   "source": [
    "baseline_diffusion_X = diffusion_engine.X.copy()\n",
    "ATM_irs_specs = diffusion_engine.irs_specs.copy()"
   ]
  },
  {
   "cell_type": "markdown",
   "metadata": {},
   "source": [
    "Simulate one more time without reinstantiating the diffusion engine"
   ]
  },
  {
   "cell_type": "code",
   "execution_count": 15,
   "metadata": {
    "ExecuteTime": {
     "end_time": "2024-10-23T09:49:37.198971Z",
     "start_time": "2024-10-23T09:49:36.403701Z"
    },
    "scrolled": true
   },
   "outputs": [
    {
     "name": "stdout",
     "output_type": "stream",
     "text": [
      "cuda_diffuse_and_price elapsed time: 765.564 ms\n",
      "Simulation done in 792.665 ms\n"
     ]
    }
   ],
   "source": [
    "_evt_start.record()\n",
    "diffusion_engine.reset_rng_states(diffusion_seed + 10) # use it for better control the seed\n",
    "diffusion_engine.generate_batch(fused=True, nested_cva_at=None, indicator_in_cva=False, set_irs_at_par=False)\n",
    "_evt_stop.record()\n",
    "_evt_stop.synchronize()\n",
    "elapsed_time_def = _evt_start.elapsed_time(_evt_stop)\n",
    "print('Simulation done in {} ms'.format(round(elapsed_time_def, 3)))"
   ]
  },
  {
   "cell_type": "code",
   "execution_count": 16,
   "metadata": {
    "ExecuteTime": {
     "end_time": "2024-10-23T09:49:37.275518Z",
     "start_time": "2024-10-23T09:49:37.200078Z"
    },
    "scrolled": true
   },
   "outputs": [],
   "source": [
    "timesteps = range(num_coarse_steps+1, -1, -1)\n",
    "xi_baseline_train = np.empty((num_coarse_steps+1+1, num_defs_per_path*num_paths,1), dtype=np.float32)\n",
    "cva_label_gen = cva_estimator._build_labels()\n",
    "for t in timesteps:\n",
    "    xi_baseline_train[t] = next(cva_label_gen)\n",
    "CVA_base0 = xi_baseline_train[0].mean()"
   ]
  },
  {
   "cell_type": "markdown",
   "metadata": {},
   "source": [
    "Simulate one more time for backtesting"
   ]
  },
  {
   "cell_type": "code",
   "execution_count": 17,
   "metadata": {
    "ExecuteTime": {
     "end_time": "2024-10-23T09:49:38.070002Z",
     "start_time": "2024-10-23T09:49:37.276634Z"
    }
   },
   "outputs": [
    {
     "name": "stdout",
     "output_type": "stream",
     "text": [
      "cuda_diffuse_and_price elapsed time: 763.514 ms\n",
      "Simulation done in 790.779 ms\n"
     ]
    }
   ],
   "source": [
    "_evt_start.record()\n",
    "diffusion_engine.reset_rng_states(diffusion_seed + 20) # use it for better control the seed\n",
    "diffusion_engine.generate_batch(fused=True, nested_cva_at=None, indicator_in_cva=False, set_irs_at_par=False)\n",
    "_evt_stop.record()\n",
    "_evt_stop.synchronize()\n",
    "elapsed_time_def = _evt_start.elapsed_time(_evt_stop)\n",
    "print('Simulation done in {} ms'.format(round(elapsed_time_def, 3)))"
   ]
  },
  {
   "cell_type": "code",
   "execution_count": 18,
   "metadata": {
    "ExecuteTime": {
     "end_time": "2024-10-23T09:49:38.142794Z",
     "start_time": "2024-10-23T09:49:38.071151Z"
    }
   },
   "outputs": [],
   "source": [
    "timesteps = range(num_coarse_steps+1, -1, -1)\n",
    "xi_baseline_test = np.empty((num_coarse_steps+1+1, num_defs_per_path*num_paths,1), dtype=np.float32)\n",
    "cva_label_gen = cva_estimator._build_labels()\n",
    "for t in timesteps:\n",
    "    xi_baseline_test[t] = next(cva_label_gen)"
   ]
  },
  {
   "cell_type": "code",
   "execution_count": 19,
   "metadata": {
    "ExecuteTime": {
     "end_time": "2024-10-23T09:49:38.496181Z",
     "start_time": "2024-10-23T09:49:38.143848Z"
    }
   },
   "outputs": [
    {
     "data": {
      "text/plain": [
       "8635"
      ]
     },
     "execution_count": 19,
     "metadata": {},
     "output_type": "execute_result"
    }
   ],
   "source": [
    "del diffusion_engine, cva_estimator, cva_label_gen\n",
    "torch.cuda.empty_cache()\n",
    "gc.collect()"
   ]
  },
  {
   "cell_type": "code",
   "execution_count": 20,
   "metadata": {
    "ExecuteTime": {
     "end_time": "2024-10-23T09:49:38.500455Z",
     "start_time": "2024-10-23T09:49:38.497281Z"
    }
   },
   "outputs": [
    {
     "data": {
      "text/plain": [
       "(4943.649, 5025.673)"
      ]
     },
     "execution_count": 20,
     "metadata": {},
     "output_type": "execute_result"
    }
   ],
   "source": [
    "(xi_baseline_test[0].mean(), xi_baseline_train[0].mean())"
   ]
  },
  {
   "cell_type": "markdown",
   "metadata": {
    "ExecuteTime": {
     "end_time": "2024-04-15T12:20:49.803311Z",
     "start_time": "2024-04-15T12:20:49.254668Z"
    }
   },
   "source": [
    "# CVA sensis mode simulation"
   ]
  },
  {
   "cell_type": "code",
   "execution_count": 22,
   "metadata": {
    "ExecuteTime": {
     "end_time": "2024-10-23T09:49:48.629233Z",
     "start_time": "2024-10-23T09:49:48.626671Z"
    }
   },
   "outputs": [],
   "source": [
    "time_horizon_index = [1,2,11] \n",
    "\n",
    "# New time steps with early pricing date are:\n",
    "# 0 0.01 0.1 0.2... 1"
   ]
  },
  {
   "cell_type": "code",
   "execution_count": 33,
   "metadata": {
    "ExecuteTime": {
     "end_time": "2024-10-23T10:02:05.109583Z",
     "start_time": "2024-10-23T10:02:05.094314Z"
    }
   },
   "outputs": [],
   "source": [
    "def parameter_shock_generator(idx_horizon, para_shock_seed = parameter_shock_seed): \n",
    "    \n",
    "    #shock generation\n",
    "    time_horizon_value = np.concatenate([np.array([0,1]),np.arange(10,1010,10)])\n",
    "    pathwise_diff_params = np.random.RandomState(para_shock_seed).multivariate_normal(np.zeros(num_para), np.eye(num_para), size = (num_paths))\n",
    "    \n",
    "    shock_train = math.sqrt(time_horizon_value[idx_horizon])*0.01*np.array(pathwise_diff_params, dtype = np.float32).T\n",
    "    \n",
    "    pathwise_diff_params = np.random.RandomState(para_shock_seed + 111).multivariate_normal(np.zeros(num_para), np.eye(num_para), size = (num_paths))\n",
    "    shock_test = math.sqrt(time_horizon_value[idx_horizon])*0.01*np.array(pathwise_diff_params, dtype = np.float32).T\n",
    "    \n",
    "    shock_train[0:num_diff, :] = 0\n",
    "    shock_test[0:num_diff, :] = 0\n",
    "\n",
    "    # Instantiate the diffusion engine with shocked parameters\n",
    "        \n",
    "    diffusion_engine_ = DiffusionEngine(50, 50, num_coarse_steps, dT, num_fine_per_coarse, dt,\n",
    "                                               num_paths, 1, num_defs_per_path, \n",
    "                                               num_rates, num_spreads, R, rates_params, fx_params, \n",
    "                                               spreads_params, vanilla_specs, ATM_irs_specs, zcs_specs,\n",
    "                                               initial_values, initial_defaults, cDtoH_freq, device.index, \n",
    "                                               pathwise_diff_para =  shock_train.copy(),\n",
    "                                               early_pricing_date =[0.01], seed = diffusion_seed+1000)\n",
    "    \n",
    "\n",
    "    diffusion_engine_.reset_rng_states(diffusion_seed + 1000)\n",
    "    diffusion_engine_.generate_batch(fused=True, nested_cva_at=None, indicator_in_cva=False, set_irs_at_par=False)\n",
    "\n",
    "\n",
    "    shock_train[0:num_diff] = diffusion_engine_.X[idx_horizon].copy()/baseline_diffusion_X[0].copy()-1\n",
    "\n",
    "    # Rerun for backtesting\n",
    "\n",
    "    diffusion_engine_._reinitialize(initial_values, shock_test.copy())\n",
    "    diffusion_engine_.reset_rng_states(diffusion_seed + 2000)\n",
    "    diffusion_engine_.generate_batch(fused=True, nested_cva_at=None, indicator_in_cva=False, set_irs_at_par=False)\n",
    "       \n",
    "    shock_test[0:num_diff] = diffusion_engine_.X[idx_horizon].copy()/baseline_diffusion_X[0].copy()-1\n",
    "    \n",
    "    del diffusion_engine_\n",
    "    torch.cuda.empty_cache()\n",
    "    gc.collect()\n",
    "    \n",
    "    return shock_train, shock_test\n"
   ]
  },
  {
   "cell_type": "code",
   "execution_count": 57,
   "metadata": {
    "ExecuteTime": {
     "end_time": "2024-10-23T10:17:45.115946Z",
     "start_time": "2024-10-23T10:17:45.098371Z"
    }
   },
   "outputs": [],
   "source": [
    "def payoff_CVA_sensis_simulation(idx_horizon, shock_train, shock_test, inner_path_nested_test = 1): \n",
    "   \n",
    "    diffusion_engine_sensis = DiffusionEngine(50, 50, num_coarse_steps, dT, num_fine_per_coarse, dt,\n",
    "                                               num_paths, 1, num_defs_per_path, \n",
    "                                               num_rates, num_spreads, R, rates_params, fx_params, \n",
    "                                               spreads_params, vanilla_specs, ATM_irs_specs, zcs_specs,\n",
    "                                               initial_values, initial_defaults, cDtoH_freq, device.index, \n",
    "                                               pathwise_diff_para =  shock_train.copy(),\n",
    "                                               early_pricing_date =[0.01], seed = diffusion_seed + 10)\n",
    "        \n",
    "    cva_estimator_sensis = CVAEstimatorPortfolioInt(prev_reset_arr, True, False, False, True, \n",
    "                                           diffusion_engine_sensis, device, 2, 2*(num_rates+num_spreads), \n",
    "                                           (num_paths*num_defs_per_path)//8, \n",
    "                                           100, 0.01, 0, reset_weights=False, linear=False, \n",
    "                                           best_sol=True, refine_last_layer=True)\n",
    "    \n",
    "    \n",
    "    diffusion_engine_sensis.generate_batch(fused=True, nested_cva_at=None, indicator_in_cva=False, set_irs_at_par=False)\n",
    "    \n",
    "    timesteps = range(num_coarse_steps+1, -1, -1)\n",
    "    xi_sensis_train = np.empty(( num_defs_per_path*num_paths,1), dtype=np.float32)\n",
    "    cva_label_gen = cva_estimator_sensis._build_labels()\n",
    "    for t in timesteps:\n",
    "        xi_sensis_train = next(cva_label_gen)\n",
    "    \n",
    "    features_sensis_ = np.empty(shape=(2, num_paths * num_defs_per_path, cva_estimator_sensis.num_features + cva_estimator_sensis.num_params * cva_estimator_sensis.include_para_as_fea))\n",
    "    \n",
    "    features_gen_sensis = cva_estimator_sensis._features_generator()\n",
    "    \n",
    "    t= 0\n",
    "    next(features_gen_sensis)\n",
    "    feature0 = features_gen_sensis.send(t)\n",
    "\n",
    "\n",
    "    for j, feature_batch in enumerate(feature0()):\n",
    "        features_sensis_[0, j*cva_estimator_sensis.batch_size:(j + 1)*cva_estimator_sensis.batch_size] = feature_batch.cpu().numpy()\n",
    "            \n",
    "                    \n",
    "    del  diffusion_engine_sensis, cva_estimator_sensis, features_gen_sensis\n",
    "    torch.cuda.empty_cache()\n",
    "    gc.collect()\n",
    "    \n",
    "    \n",
    "    ########## Rerun with nested simulation for backtesting data. We simulate num_inner_paths for nested and 2 more paths for twin Monte Carlo validation\n",
    "    \n",
    " \n",
    "    xi_sensis_test = np.empty((inner_path_nested_test+2, num_defs_per_path*num_paths,1), dtype=np.float32)\n",
    "\n",
    "    \n",
    "    diffusion_engine_sensis = DiffusionEngine(50, 50, num_coarse_steps, dT, num_fine_per_coarse, dt,\n",
    "                                               num_paths, 1, num_defs_per_path, \n",
    "                                               num_rates, num_spreads, R, rates_params, fx_params, \n",
    "                                               spreads_params, vanilla_specs, ATM_irs_specs, zcs_specs,\n",
    "                                               initial_values, initial_defaults, cDtoH_freq, device.index, \n",
    "                                               pathwise_diff_para =  shock_test.copy(),\n",
    "                                               early_pricing_date =[0.01], seed = diffusion_seed+ 20)\n",
    "    \n",
    "\n",
    "    cva_estimator_sensis = CVAEstimatorPortfolioInt(prev_reset_arr, True, False, False, True,\n",
    "                                                     diffusion_engine_sensis, device, 2, 2*(num_rates+num_spreads),\n",
    "                                                     (num_paths*num_defs_per_path)//8, \n",
    "                                                     100, 0.01, 0, reset_weights=False, linear=False, \n",
    "                                                       best_sol=True, refine_last_layer=True)\n",
    "    \n",
    "    \n",
    "    for idx_nested in tqdm(range(inner_path_nested_test+2)): # [0 ... 1024, 1025]\n",
    "        diffusion_engine_sensis.reset_rng_states(diffusion_seed + 20+ idx_nested) # use it for better control the seed\n",
    "        diffusion_engine_sensis.generate_batch(fused=True, nested_cva_at=None, indicator_in_cva=False, set_irs_at_par=False)\n",
    "               \n",
    "        timesteps = range(num_coarse_steps+1, -1, -1)\n",
    "        cva_label_gen = cva_estimator_sensis._build_labels()\n",
    "        for t in timesteps:\n",
    "            xi_sensis_test[idx_nested] = next(cva_label_gen)\n",
    "        if idx_nested==0:\n",
    "            features_gen_sensis = cva_estimator_sensis._features_generator()\n",
    "\n",
    "            t= 0\n",
    "            next(features_gen_sensis)\n",
    "            feature0 = features_gen_sensis.send(t)\n",
    "\n",
    "            for j, feature_batch in enumerate(feature0()):\n",
    "                features_sensis_[1, j*cva_estimator_sensis.batch_size:(j + 1)*cva_estimator_sensis.batch_size] = feature_batch.cpu().numpy()\n",
    "\n",
    "    \n",
    "    del  cva_estimator_sensis, cva_label_gen, feature0\n",
    "    torch.cuda.empty_cache()\n",
    "    gc.collect()\n",
    "    \n",
    "    return features_sensis_, xi_sensis_train, xi_sensis_test \n"
   ]
  },
  {
   "cell_type": "markdown",
   "metadata": {},
   "source": [
    "For each time horizon (0.01, 0.1 or 1), simulate model parameters paths and the corresponding payoffs."
   ]
  },
  {
   "cell_type": "code",
   "execution_count": 41,
   "metadata": {
    "ExecuteTime": {
     "end_time": "2024-10-23T10:08:41.782909Z",
     "start_time": "2024-10-23T10:07:44.188248Z"
    }
   },
   "outputs": [
    {
     "name": "stderr",
     "output_type": "stream",
     "text": [
      "\r",
      "  0%|                                                   | 0/1 [00:00<?, ?it/s]"
     ]
    },
    {
     "name": "stdout",
     "output_type": "stream",
     "text": [
      "Successfully compiled all kernels.\n",
      "Randomizing diffusion parameters.\n",
      "cuda_diffuse_and_price elapsed time: 778.094 ms\n",
      "cuda_diffuse_and_price elapsed time: 705.944 ms\n",
      "Successfully compiled all kernels.\n",
      "Randomizing diffusion parameters.\n",
      "cuda_diffuse_and_price elapsed time: 760.106 ms\n",
      "shock_train: [[0.00911375 0.01008503 0.0096136  0.00918093 0.00828717]\n",
      " [0.01005794 0.00900015 0.00863221 0.00960001 0.01125113]\n",
      " [0.01332188 0.01001409 0.00763734 0.01012884 0.00956053]\n",
      " [0.00969358 0.01130203 0.01185182 0.01107767 0.01293877]\n",
      " [0.01249547 0.01101214 0.00663654 0.01351503 0.01264259]]\n",
      "Successfully compiled all kernels.\n",
      "Randomizing diffusion parameters.\n"
     ]
    },
    {
     "name": "stderr",
     "output_type": "stream",
     "text": [
      "\n",
      "  0%|                                                   | 0/3 [00:00<?, ?it/s]\u001b[A\n",
      " 33%|██████████████▎                            | 1/3 [00:00<00:01,  1.14it/s]\u001b[A"
     ]
    },
    {
     "name": "stdout",
     "output_type": "stream",
     "text": [
      "cuda_diffuse_and_price elapsed time: 756.053 ms\n",
      "shock_test: [[0.01164742 0.0091527  0.01075356 0.00851354 0.01180844]\n",
      " [0.00890011 0.00980096 0.01163991 0.00954665 0.00938364]\n",
      " [0.01074346 0.00916287 0.00987122 0.01223421 0.01061215]\n",
      " [0.00858414 0.00695835 0.0101984  0.00823769 0.00906631]\n",
      " [0.00726546 0.01105649 0.00776778 0.01211967 0.00807274]]\n"
     ]
    },
    {
     "name": "stderr",
     "output_type": "stream",
     "text": [
      "\n",
      " 67%|████████████████████████████▋              | 2/3 [00:01<00:00,  1.14it/s]\u001b[A"
     ]
    },
    {
     "name": "stdout",
     "output_type": "stream",
     "text": [
      "cuda_diffuse_and_price elapsed time: 769.672 ms\n",
      "shock_test: [[0.01042488 0.00803422 0.01108098 0.0078811  0.01237984]\n",
      " [0.01067161 0.00986705 0.0128804  0.00890007 0.01110049]\n",
      " [0.00989355 0.01039087 0.01087201 0.0134368  0.00979929]\n",
      " [0.00901808 0.00937521 0.01033866 0.00993267 0.00977995]\n",
      " [0.00695206 0.00973356 0.00991743 0.01145159 0.0086639 ]]\n"
     ]
    },
    {
     "name": "stderr",
     "output_type": "stream",
     "text": [
      "\n",
      "100%|███████████████████████████████████████████| 3/3 [00:02<00:00,  1.14it/s]\u001b[A"
     ]
    },
    {
     "name": "stdout",
     "output_type": "stream",
     "text": [
      "cuda_diffuse_and_price elapsed time: 758.06 ms\n",
      "shock_test: [[0.01083212 0.00969293 0.00980485 0.00875911 0.01137615]\n",
      " [0.00993947 0.00885084 0.00980904 0.00975859 0.01067332]\n",
      " [0.009371   0.01129884 0.01098736 0.01209731 0.01128515]\n",
      " [0.00964018 0.00838638 0.0092111  0.0100491  0.0109791 ]\n",
      " [0.00549177 0.00763041 0.01095646 0.00929684 0.00921333]]\n"
     ]
    },
    {
     "name": "stderr",
     "output_type": "stream",
     "text": [
      "\n",
      "100%|███████████████████████████████████████████| 1/1 [00:57<00:00, 57.59s/it]\n"
     ]
    }
   ],
   "source": [
    "from tqdm import tqdm\n",
    "\n",
    "features_sensis, xi_sensis, xi_nested_sensis = list(), list(), list()\n",
    "for h in tqdm(time_horizon_index):\n",
    "    para_shock_train, para_shock_test = parameter_shock_generator(h)\n",
    "\n",
    "    res = payoff_CVA_sensis_simulation(h, para_shock_train, para_shock_test, inner_path_nested_test = 1)\n",
    "    \n",
    "    # the first and second positions are train and backtesting data set respectively.\n",
    "    features_sensis.append(res[0])\n",
    "    xi_sensis.append((res[1] , res[2][0]))\n",
    "    xi_nested_sensis.append(res[2])\n",
    "\n"
   ]
  },
  {
   "cell_type": "code",
   "execution_count": 43,
   "metadata": {
    "ExecuteTime": {
     "end_time": "2024-10-22T14:00:56.044923Z",
     "start_time": "2024-10-22T14:00:36.657196Z"
    }
   },
   "outputs": [],
   "source": [
    "features_sensis_train = np.asarray(features_sensis, dtype = np.float32)[:,0,:,:]\n",
    "features_sensis_test = np.asarray(features_sensis, dtype = np.float32)[:,1,:,:]\n",
    "\n",
    "xi_sensis_train = np.asarray(xi_sensis, dtype = np.float32)[:,0,:,:]\n",
    "xi_sensis_test = np.asarray(xi_sensis, dtype = np.float32)[:,1,:,:]\n",
    "\n",
    "xi_nested_sensis = np.asarray(xi_nested_sensis, dtype = np.float32)\n",
    "\n",
    "CVA_nested_test = xi_nested_sensis[:,:num_inner_paths,:,:].mean(axis = 1)\n",
    "twin_y12 = xi_nested_sensis[:,num_inner_paths:,:,:]"
   ]
  },
  {
   "cell_type": "markdown",
   "metadata": {
    "ExecuteTime": {
     "end_time": "2024-10-08T13:25:03.012899Z",
     "start_time": "2024-10-08T13:25:03.009223Z"
    }
   },
   "source": [
    "The output results:\n",
    "- `features_sensis_train[horizon, paths, num_features]`: features encomprass diffusive risk factors and parameters\n",
    "- `xi_sensis_train[horizon, paths, 1]`:  payoff in the sensis mode\n",
    "- `xi_sensis_test[horizon, nested paths, paths, 1]`: nested payoff in the sensis mode\n",
    "- `xi_baseline_train[time_steps, paths, 1]`:  payoff in the baseline mode\n",
    "- `CVA_nested_test[horizon, paths, 1]`: nested CVA in the sensis mode\n",
    "- `twin_y12[time_steps, 2, paths, 1]`: payoff y1 and y2 in the sensis mode for the twin Monte Carlo validation \n",
    "\n",
    "\n"
   ]
  },
  {
   "cell_type": "markdown",
   "metadata": {},
   "source": [
    "## $\\delta$CVA$_{(t)}$  learning (run-on)\n",
    "\n",
    "We use neural network model model to learn $\\delta$CVA$_{(t)}$."
   ]
  },
  {
   "cell_type": "code",
   "execution_count": 44,
   "metadata": {
    "ExecuteTime": {
     "end_time": "2024-10-22T14:02:24.787482Z",
     "start_time": "2024-10-22T14:01:08.299506Z"
    }
   },
   "outputs": [
    {
     "data": {
      "image/png": "[encoded data removed]",
      "text/plain": [
       "<Figure size 640x480 with 1 Axes>"
      ]
     },
     "metadata": {},
     "output_type": "display_data"
    },
    {
     "data": {
      "image/png": "[encoded data removed]",
      "text/plain": [
       "<Figure size 640x480 with 1 Axes>"
      ]
     },
     "metadata": {},
     "output_type": "display_data"
    },
    {
     "data": {
      "image/png": "[encoded data removed]",
      "text/plain": [
       "<Figure size 640x480 with 1 Axes>"
      ]
     },
     "metadata": {},
     "output_type": "display_data"
    }
   ],
   "source": [
    "d_CVA_nn_train = list()\n",
    "d_CVA_nn_test = list()\n",
    "\n",
    "from learning.generic_estimator import GenericModel\n",
    "\n",
    "criterion = torch.nn.MSELoss(reduction='mean')\n",
    "num_batch = 32\n",
    "batch_size = num_paths//num_batch\n",
    "\n",
    "for j in range(len(xi_sensis)):\n",
    "\n",
    "    dxi = torch.tensor(xi_sensis_train[j] - xi_baseline_train[0], dtype = torch.float32).to(device)\n",
    "    std_dxi = dxi.std()+1e-7\n",
    "    features_torch = torch.tensor(features_sensis_train[j], dtype = torch.float32).to(device)\n",
    "    features_test_torch = torch.tensor(features_sensis_test[j], dtype = torch.float32).to(device)\n",
    "    features_torch_mean = features_torch.mean(axis = 0,keepdim = True)\n",
    "    features_torch_std = features_torch.std(axis = 0,keepdim = True)+1e-7\n",
    "    \n",
    "    model = GenericModel(features_torch.shape[1], 1, 200, 'mean').to(device)\n",
    "    optimizer = torch.optim.Adam(model.parameters(), lr=1e-2, weight_decay=1e-2)\n",
    "\n",
    "    model.train()\n",
    "    losses = []\n",
    "    for _ in range(500):\n",
    "        for i in range(num_batch):\n",
    "            features_batch = features_torch[i*batch_size:(i+1)*batch_size]\n",
    "            labels_batch = dxi[i*batch_size:(i+1)*batch_size]\n",
    "            pred = model((features_batch-features_torch_mean)/features_torch_std)\n",
    "            loss = criterion(pred, labels_batch)/std_dxi\n",
    "            optimizer.zero_grad()\n",
    "            loss.backward()\n",
    "            optimizer.step()\n",
    "        losses.append(loss.detach().cpu().numpy())\n",
    "    model.eval()\n",
    "    plt.plot(np.log(losses))\n",
    "    plt.show()\n",
    "\n",
    "    with torch.no_grad():\n",
    "        \n",
    "        pred_train = model((features_torch-features_torch_mean)/features_torch_std).cpu().numpy()\n",
    "        pred_test = model((features_test_torch-features_torch_mean)/features_torch_std).cpu().numpy()\n",
    "        d_CVA_nn_train.append( pred_train)\n",
    "        d_CVA_nn_test.append( pred_test)\n",
    "d_CVA_nn_train = np.asarray(d_CVA_nn_train, dtype = np.float32)   \n",
    "d_CVA_nn_test = np.asarray(d_CVA_nn_test, dtype = np.float32)   \n",
    "    "
   ]
  },
  {
   "cell_type": "markdown",
   "metadata": {
    "ExecuteTime": {
     "end_time": "2024-10-08T14:34:41.803345Z",
     "start_time": "2024-10-08T14:34:41.798510Z"
    }
   },
   "source": [
    "Remove unchanged features"
   ]
  },
  {
   "cell_type": "code",
   "execution_count": 45,
   "metadata": {
    "ExecuteTime": {
     "end_time": "2024-10-22T14:02:28.613943Z",
     "start_time": "2024-10-22T14:02:24.789424Z"
    }
   },
   "outputs": [],
   "source": [
    "idx_features_sensis = np.concatenate([np.arange(27), np.arange(45,features_sensis_train.shape[2]), np.arange(37,45)])\n",
    "\n",
    "\n",
    "features_baseline0 = np.concatenate([initial_values[:-1], initial_g_diff_params, np.zeros(8)]).reshape(1,-1)\n",
    "\n",
    "features_sensis_train = features_sensis_train[:,:,idx_features_sensis]\n",
    "features_sensis_test = features_sensis_test[:,:,idx_features_sensis]\n",
    "\n"
   ]
  },
  {
   "cell_type": "markdown",
   "metadata": {},
   "source": [
    "Save features, delta CVA learnt by neural network models, nested delta CVA and two extra paths for twin Monte Carlo validation"
   ]
  },
  {
   "cell_type": "code",
   "execution_count": 46,
   "metadata": {
    "ExecuteTime": {
     "end_time": "2024-10-22T14:02:28.625840Z",
     "start_time": "2024-10-22T14:02:28.616200Z"
    }
   },
   "outputs": [],
   "source": [
    "d = {}\n",
    "\n",
    "d['features_baseline0'] = features_baseline0\n",
    "d['features_sensis_train'] = features_sensis_train\n",
    "\n",
    "d['features_sensis_test'] = features_sensis_test\n",
    "\n",
    "\n",
    "d['d_CVA_nn_train'] = d_CVA_nn_train\n",
    "d['d_CVA_nn_test'] = d_CVA_nn_test\n",
    "\n",
    "d['d_xi_sensis_train'] = xi_sensis_train - xi_baseline_train[0:1]\n",
    "d['d_xi_sensis_test'] = xi_sensis_test - xi_baseline_test[0:1]\n",
    "\n",
    "d['d_CVA_nested_test'] = CVA_nested_test - CVA_base0\n",
    "\n",
    "d['d_twin_y12'] = twin_y12 - CVA_base0\n",
    "\n",
    "\n",
    "d['CVA_0'] = CVA_base0\n"
   ]
  },
  {
   "cell_type": "code",
   "execution_count": 47,
   "metadata": {
    "ExecuteTime": {
     "end_time": "2024-10-22T14:02:33.363183Z",
     "start_time": "2024-10-22T14:02:28.627826Z"
    }
   },
   "outputs": [],
   "source": [
    "with open('data_for_run-on_analysis.pickle', 'wb') as file:\n",
    "    pickle.dump(d,file)"
   ]
  },
  {
   "cell_type": "code",
   "execution_count": null,
   "metadata": {},
   "outputs": [],
   "source": []
  },
  {
   "cell_type": "code",
   "execution_count": null,
   "metadata": {},
   "outputs": [],
   "source": []
  },
  {
   "cell_type": "code",
   "execution_count": null,
   "metadata": {},
   "outputs": [],
   "source": []
  }
 ],
 "metadata": {
  "kernelspec": {
   "display_name": "Python 3 (ipykernel)",
   "language": "python",
   "name": "python3"
  },
  "language_info": {
   "codemirror_mode": {
    "name": "ipython",
    "version": 3
   },
   "file_extension": ".py",
   "mimetype": "text/x-python",
   "name": "python",
   "nbconvert_exporter": "python",
   "pygments_lexer": "ipython3",
   "version": "3.11.8"
  },
  "toc": {
   "base_numbering": 1,
   "nav_menu": {
    "height": "150px",
    "width": "160px"
   },
   "number_sections": true,
   "sideBar": true,
   "skip_h1_title": false,
   "title_cell": "Table of Contents",
   "title_sidebar": "Contents",
   "toc_cell": false,
   "toc_position": {},
   "toc_section_display": true,
   "toc_window_display": false
  },
  "varInspector": {
   "cols": {
    "lenName": 16,
    "lenType": 16,
    "lenVar": 40
   },
   "kernels_config": {
    "python": {
     "delete_cmd_postfix": "",
     "delete_cmd_prefix": "del ",
     "library": "var_list.py",
     "varRefreshCmd": "print(var_dic_list())"
    },
    "r": {
     "delete_cmd_postfix": ") ",
     "delete_cmd_prefix": "rm(",
     "library": "var_list.r",
     "varRefreshCmd": "cat(var_dic_list()) "
    }
   },
   "types_to_exclude": [
    "module",
    "function",
    "builtin_function_or_method",
    "instance",
    "_Feature"
   ],
   "window_display": false
  }
 },
 "nbformat": 4,
 "nbformat_minor": 4
}
